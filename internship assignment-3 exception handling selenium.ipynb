{
 "cells": [
  {
   "cell_type": "code",
   "execution_count": 1,
   "id": "6a8a7805",
   "metadata": {},
   "outputs": [],
   "source": [
    "import selenium\n",
    "import pandas as pd\n",
    "from selenium import webdriver\n",
    "import warnings\n",
    "warnings.filterwarnings('ignore')\n",
    "from selenium.common.exceptions import StaleElementReferenceException,NoSuchElementException\n",
    "from selenium.webdriver.common.by import By\n",
    "import time\n",
    "from selenium.webdriver.support import expected_conditions as EC\n",
    "from selenium.webdriver.support.ui import WebDriverWait\n"
   ]
  },
  {
   "cell_type": "code",
   "execution_count": null,
   "id": "467e1af7",
   "metadata": {},
   "outputs": [],
   "source": [
    "#Q1) Write a python program which searches all the product under a particular product from www.amazon.in. The\n",
    "#product to be searched will be taken as input from user. For e.g. If user input is ‘guitar’. Then search for\n",
    "#guitars."
   ]
  },
  {
   "cell_type": "code",
   "execution_count": 2,
   "id": "aa31a439",
   "metadata": {},
   "outputs": [],
   "source": [
    "driver=webdriver.Chrome(r\"chromedriver.exe\")"
   ]
  },
  {
   "cell_type": "code",
   "execution_count": 3,
   "id": "62bf5a17",
   "metadata": {},
   "outputs": [],
   "source": [
    "driver.get(\"https://www.amazon.in/\")"
   ]
  },
  {
   "cell_type": "code",
   "execution_count": 5,
   "id": "9a7bb508",
   "metadata": {},
   "outputs": [],
   "source": [
    "delay=10"
   ]
  },
  {
   "cell_type": "code",
   "execution_count": 6,
   "id": "612d72bd",
   "metadata": {},
   "outputs": [
    {
     "data": {
      "text/plain": [
       "<selenium.webdriver.remote.webelement.WebElement (session=\"b9cdbb0f62a6caf89d3041b9d572c5dc\", element=\"522c99ab-3d67-40d9-beb4-5026b4ce17a3\")>"
      ]
     },
     "execution_count": 6,
     "metadata": {},
     "output_type": "execute_result"
    }
   ],
   "source": [
    "WebDriverWait(driver, delay).until(EC.presence_of_element_located((By.CLASS_NAME,'nav-right')))"
   ]
  },
  {
   "cell_type": "code",
   "execution_count": 10,
   "id": "a512356c",
   "metadata": {},
   "outputs": [
    {
     "name": "stdout",
     "output_type": "stream",
     "text": [
      "Enter name of product is to be seached-fruit\n"
     ]
    }
   ],
   "source": [
    "search=driver.find_element(By.XPATH,\"/html/body/div[1]/header/div/div[1]/div[2]/div/form/div[2]/div[1]/input\")\n",
    "search.send_keys((input('Enter name of product is to be seached-')))"
   ]
  },
  {
   "cell_type": "code",
   "execution_count": 11,
   "id": "97249072",
   "metadata": {},
   "outputs": [],
   "source": [
    "search=driver.find_element(By.CLASS_NAME,\"nav-right\")\n",
    "search.click()"
   ]
  },
  {
   "cell_type": "code",
   "execution_count": null,
   "id": "463c3c3e",
   "metadata": {},
   "outputs": [],
   "source": [
    "#driver.close()"
   ]
  },
  {
   "cell_type": "code",
   "execution_count": 14,
   "id": "0de9f1a8",
   "metadata": {},
   "outputs": [],
   "source": [
    "# Qno-2-In the above question, now scrape the following details of each product listed in first 3 pages of your search\n",
    "#results and save it in a data frame and csv. In case if any product has less than 3 pages in search results then\n",
    "#scrape all the products available under that product name. Details to be scraped are: \"Brand\n",
    "#Name\", \"Name of the Product\", \"Price\", \"Return/Exchange\", \"Expected Delivery\", \"Availability\" and\n",
    "#“Product URL”. In case, if any of the details are missing for any of the product then replace it by “-“."
   ]
  },
  {
   "cell_type": "code",
   "execution_count": 7,
   "id": "8079a588",
   "metadata": {},
   "outputs": [],
   "source": [
    "product_url=[]"
   ]
  },
  {
   "cell_type": "code",
   "execution_count": 8,
   "id": "a3d49656",
   "metadata": {},
   "outputs": [
    {
     "ename": "NoSuchElementException",
     "evalue": "Message: no such element: Unable to locate element: {\"method\":\"xpath\",\"selector\":\"//a[@class=\"s-pagination-item s-pagination-next s-pagination-button s-pagination-separator\"]\"}\n  (Session info: chrome=110.0.5481.178)\nStacktrace:\nBacktrace:\n\t(No symbol) [0x009A6643]\n\t(No symbol) [0x0093BE21]\n\t(No symbol) [0x0083DA9D]\n\t(No symbol) [0x00871342]\n\t(No symbol) [0x0087147B]\n\t(No symbol) [0x008A8DC2]\n\t(No symbol) [0x0088FDC4]\n\t(No symbol) [0x008A6B09]\n\t(No symbol) [0x0088FB76]\n\t(No symbol) [0x008649C1]\n\t(No symbol) [0x00865E5D]\n\tGetHandleVerifier [0x00C1A142+2497106]\n\tGetHandleVerifier [0x00C485D3+2686691]\n\tGetHandleVerifier [0x00C4BB9C+2700460]\n\tGetHandleVerifier [0x00A53B10+635936]\n\t(No symbol) [0x00944A1F]\n\t(No symbol) [0x0094A418]\n\t(No symbol) [0x0094A505]\n\t(No symbol) [0x0095508B]\n\tBaseThreadInitThunk [0x7717FA29+25]\n\tRtlGetAppContainerNamedObjectPath [0x77B37A9E+286]\n\tRtlGetAppContainerNamedObjectPath [0x77B37A6E+238]\n",
     "output_type": "error",
     "traceback": [
      "\u001b[1;31m---------------------------------------------------------------------------\u001b[0m",
      "\u001b[1;31mNoSuchElementException\u001b[0m                    Traceback (most recent call last)",
      "Input \u001b[1;32mIn [8]\u001b[0m, in \u001b[0;36m<cell line: 3>\u001b[1;34m()\u001b[0m\n\u001b[0;32m      5\u001b[0m \u001b[38;5;28;01mfor\u001b[39;00m i \u001b[38;5;129;01min\u001b[39;00m urls[\u001b[38;5;241m0\u001b[39m:\u001b[38;5;241m20\u001b[39m]:\n\u001b[0;32m      6\u001b[0m     product_url\u001b[38;5;241m.\u001b[39mappend(i\u001b[38;5;241m.\u001b[39mget_attribute(\u001b[38;5;124m\"\u001b[39m\u001b[38;5;124mhref\u001b[39m\u001b[38;5;124m\"\u001b[39m))\n\u001b[1;32m----> 7\u001b[0m NEXT_tag\u001b[38;5;241m=\u001b[39m\u001b[43mdriver\u001b[49m\u001b[38;5;241;43m.\u001b[39;49m\u001b[43mfind_element\u001b[49m\u001b[43m(\u001b[49m\u001b[43mBy\u001b[49m\u001b[38;5;241;43m.\u001b[39;49m\u001b[43mXPATH\u001b[49m\u001b[43m,\u001b[49m\u001b[38;5;124;43m'\u001b[39;49m\u001b[38;5;124;43m//a[@class=\u001b[39;49m\u001b[38;5;124;43m\"\u001b[39;49m\u001b[38;5;124;43ms-pagination-item s-pagination-next s-pagination-button s-pagination-separator\u001b[39;49m\u001b[38;5;124;43m\"\u001b[39;49m\u001b[38;5;124;43m]\u001b[39;49m\u001b[38;5;124;43m'\u001b[39;49m\u001b[43m)\u001b[49m\n\u001b[0;32m      8\u001b[0m NEXT_tag\u001b[38;5;241m.\u001b[39mclick()\n\u001b[0;32m      9\u001b[0m time\u001b[38;5;241m.\u001b[39msleep(\u001b[38;5;241m5\u001b[39m)\n",
      "File \u001b[1;32m~\\AppData\\Roaming\\Python\\Python39\\site-packages\\selenium\\webdriver\\remote\\webdriver.py:830\u001b[0m, in \u001b[0;36mWebDriver.find_element\u001b[1;34m(self, by, value)\u001b[0m\n\u001b[0;32m    827\u001b[0m     by \u001b[38;5;241m=\u001b[39m By\u001b[38;5;241m.\u001b[39mCSS_SELECTOR\n\u001b[0;32m    828\u001b[0m     value \u001b[38;5;241m=\u001b[39m \u001b[38;5;124mf\u001b[39m\u001b[38;5;124m'\u001b[39m\u001b[38;5;124m[name=\u001b[39m\u001b[38;5;124m\"\u001b[39m\u001b[38;5;132;01m{\u001b[39;00mvalue\u001b[38;5;132;01m}\u001b[39;00m\u001b[38;5;124m\"\u001b[39m\u001b[38;5;124m]\u001b[39m\u001b[38;5;124m'\u001b[39m\n\u001b[1;32m--> 830\u001b[0m \u001b[38;5;28;01mreturn\u001b[39;00m \u001b[38;5;28;43mself\u001b[39;49m\u001b[38;5;241;43m.\u001b[39;49m\u001b[43mexecute\u001b[49m\u001b[43m(\u001b[49m\u001b[43mCommand\u001b[49m\u001b[38;5;241;43m.\u001b[39;49m\u001b[43mFIND_ELEMENT\u001b[49m\u001b[43m,\u001b[49m\u001b[43m \u001b[49m\u001b[43m{\u001b[49m\u001b[38;5;124;43m\"\u001b[39;49m\u001b[38;5;124;43musing\u001b[39;49m\u001b[38;5;124;43m\"\u001b[39;49m\u001b[43m:\u001b[49m\u001b[43m \u001b[49m\u001b[43mby\u001b[49m\u001b[43m,\u001b[49m\u001b[43m \u001b[49m\u001b[38;5;124;43m\"\u001b[39;49m\u001b[38;5;124;43mvalue\u001b[39;49m\u001b[38;5;124;43m\"\u001b[39;49m\u001b[43m:\u001b[49m\u001b[43m \u001b[49m\u001b[43mvalue\u001b[49m\u001b[43m}\u001b[49m\u001b[43m)\u001b[49m[\u001b[38;5;124m\"\u001b[39m\u001b[38;5;124mvalue\u001b[39m\u001b[38;5;124m\"\u001b[39m]\n",
      "File \u001b[1;32m~\\AppData\\Roaming\\Python\\Python39\\site-packages\\selenium\\webdriver\\remote\\webdriver.py:440\u001b[0m, in \u001b[0;36mWebDriver.execute\u001b[1;34m(self, driver_command, params)\u001b[0m\n\u001b[0;32m    438\u001b[0m response \u001b[38;5;241m=\u001b[39m \u001b[38;5;28mself\u001b[39m\u001b[38;5;241m.\u001b[39mcommand_executor\u001b[38;5;241m.\u001b[39mexecute(driver_command, params)\n\u001b[0;32m    439\u001b[0m \u001b[38;5;28;01mif\u001b[39;00m response:\n\u001b[1;32m--> 440\u001b[0m     \u001b[38;5;28;43mself\u001b[39;49m\u001b[38;5;241;43m.\u001b[39;49m\u001b[43merror_handler\u001b[49m\u001b[38;5;241;43m.\u001b[39;49m\u001b[43mcheck_response\u001b[49m\u001b[43m(\u001b[49m\u001b[43mresponse\u001b[49m\u001b[43m)\u001b[49m\n\u001b[0;32m    441\u001b[0m     response[\u001b[38;5;124m\"\u001b[39m\u001b[38;5;124mvalue\u001b[39m\u001b[38;5;124m\"\u001b[39m] \u001b[38;5;241m=\u001b[39m \u001b[38;5;28mself\u001b[39m\u001b[38;5;241m.\u001b[39m_unwrap_value(response\u001b[38;5;241m.\u001b[39mget(\u001b[38;5;124m\"\u001b[39m\u001b[38;5;124mvalue\u001b[39m\u001b[38;5;124m\"\u001b[39m, \u001b[38;5;28;01mNone\u001b[39;00m))\n\u001b[0;32m    442\u001b[0m     \u001b[38;5;28;01mreturn\u001b[39;00m response\n",
      "File \u001b[1;32m~\\AppData\\Roaming\\Python\\Python39\\site-packages\\selenium\\webdriver\\remote\\errorhandler.py:245\u001b[0m, in \u001b[0;36mErrorHandler.check_response\u001b[1;34m(self, response)\u001b[0m\n\u001b[0;32m    243\u001b[0m         alert_text \u001b[38;5;241m=\u001b[39m value[\u001b[38;5;124m\"\u001b[39m\u001b[38;5;124malert\u001b[39m\u001b[38;5;124m\"\u001b[39m]\u001b[38;5;241m.\u001b[39mget(\u001b[38;5;124m\"\u001b[39m\u001b[38;5;124mtext\u001b[39m\u001b[38;5;124m\"\u001b[39m)\n\u001b[0;32m    244\u001b[0m     \u001b[38;5;28;01mraise\u001b[39;00m exception_class(message, screen, stacktrace, alert_text)  \u001b[38;5;66;03m# type: ignore[call-arg]  # mypy is not smart enough here\u001b[39;00m\n\u001b[1;32m--> 245\u001b[0m \u001b[38;5;28;01mraise\u001b[39;00m exception_class(message, screen, stacktrace)\n",
      "\u001b[1;31mNoSuchElementException\u001b[0m: Message: no such element: Unable to locate element: {\"method\":\"xpath\",\"selector\":\"//a[@class=\"s-pagination-item s-pagination-next s-pagination-button s-pagination-separator\"]\"}\n  (Session info: chrome=110.0.5481.178)\nStacktrace:\nBacktrace:\n\t(No symbol) [0x009A6643]\n\t(No symbol) [0x0093BE21]\n\t(No symbol) [0x0083DA9D]\n\t(No symbol) [0x00871342]\n\t(No symbol) [0x0087147B]\n\t(No symbol) [0x008A8DC2]\n\t(No symbol) [0x0088FDC4]\n\t(No symbol) [0x008A6B09]\n\t(No symbol) [0x0088FB76]\n\t(No symbol) [0x008649C1]\n\t(No symbol) [0x00865E5D]\n\tGetHandleVerifier [0x00C1A142+2497106]\n\tGetHandleVerifier [0x00C485D3+2686691]\n\tGetHandleVerifier [0x00C4BB9C+2700460]\n\tGetHandleVerifier [0x00A53B10+635936]\n\t(No symbol) [0x00944A1F]\n\t(No symbol) [0x0094A418]\n\t(No symbol) [0x0094A505]\n\t(No symbol) [0x0095508B]\n\tBaseThreadInitThunk [0x7717FA29+25]\n\tRtlGetAppContainerNamedObjectPath [0x77B37A9E+286]\n\tRtlGetAppContainerNamedObjectPath [0x77B37A6E+238]\n"
     ]
    }
   ],
   "source": [
    "start=0\n",
    "end=3\n",
    "for page in range(start,end):\n",
    "    urls=driver.find_elements(By.XPATH,'//a[@class=\"a-link-normal s-no-outline\"]')\n",
    "    for i in urls[0:20]:\n",
    "        product_url.append(i.get_attribute(\"href\"))\n",
    "    NEXT_tag=driver.find_element(By.XPATH,'//a[@class=\"s-pagination-item s-pagination-next s-pagination-button s-pagination-separator\"]')\n",
    "    NEXT_tag.click()\n",
    "    time.sleep(5)"
   ]
  },
  {
   "cell_type": "code",
   "execution_count": 20,
   "id": "c1197de2",
   "metadata": {},
   "outputs": [
    {
     "data": {
      "text/plain": [
       "60"
      ]
     },
     "execution_count": 20,
     "metadata": {},
     "output_type": "execute_result"
    }
   ],
   "source": [
    "len(product_url)"
   ]
  },
  {
   "cell_type": "code",
   "execution_count": 9,
   "id": "b2e356e4",
   "metadata": {},
   "outputs": [
    {
     "data": {
      "text/plain": [
       "[]"
      ]
     },
     "execution_count": 9,
     "metadata": {},
     "output_type": "execute_result"
    }
   ],
   "source": [
    "product_url"
   ]
  },
  {
   "cell_type": "code",
   "execution_count": 22,
   "id": "ed07cda6",
   "metadata": {},
   "outputs": [],
   "source": [
    "Brand=[]"
   ]
  },
  {
   "cell_type": "code",
   "execution_count": 23,
   "id": "5546fd2b",
   "metadata": {},
   "outputs": [],
   "source": [
    "for i in product_url[:20]:\n",
    "    driver.get(i)\n",
    "    time.sleep(5)\n",
    "    try:\n",
    "        brand=driver.find_element(By.XPATH,'//*[@id=\"productOverview_feature_div\"]/div/table/tbody/tr[1]/td[2]/span')\n",
    "        Brand.append(brand.text)\n",
    "    except NoSuchElementException:\n",
    "        Brand.append('_')\n",
    "            "
   ]
  },
  {
   "cell_type": "code",
   "execution_count": 24,
   "id": "aeb0e5a6",
   "metadata": {},
   "outputs": [
    {
     "data": {
      "text/plain": [
       "['_',\n",
       " '_',\n",
       " '_',\n",
       " '_',\n",
       " '_',\n",
       " '_',\n",
       " '_',\n",
       " '_',\n",
       " '_',\n",
       " '_',\n",
       " '_',\n",
       " '_',\n",
       " '_',\n",
       " '_',\n",
       " '_',\n",
       " '_',\n",
       " '_',\n",
       " '_',\n",
       " '_',\n",
       " '_']"
      ]
     },
     "execution_count": 24,
     "metadata": {},
     "output_type": "execute_result"
    }
   ],
   "source": [
    "Brand"
   ]
  },
  {
   "cell_type": "code",
   "execution_count": 25,
   "id": "16e20034",
   "metadata": {},
   "outputs": [],
   "source": [
    "#Q3. Write a python program to access the search bar and search button on images.google.com and scrape 10 images each for keywords ‘fruits’, ‘cars’ and ‘Machine Learning’, ‘Guitar’, ‘Cakes’. "
   ]
  },
  {
   "cell_type": "code",
   "execution_count": 12,
   "id": "3ed20533",
   "metadata": {},
   "outputs": [],
   "source": [
    "driver=webdriver.Chrome(r\"chromedriver.exe\")"
   ]
  },
  {
   "cell_type": "code",
   "execution_count": 13,
   "id": "867f55ac",
   "metadata": {},
   "outputs": [],
   "source": [
    "driver.get(\"https://www.google.com/\")"
   ]
  },
  {
   "cell_type": "code",
   "execution_count": 14,
   "id": "4bdfa7b5",
   "metadata": {},
   "outputs": [],
   "source": [
    "delay=10"
   ]
  },
  {
   "cell_type": "code",
   "execution_count": 15,
   "id": "61c8c0b6",
   "metadata": {},
   "outputs": [],
   "source": [
    "search_bar=driver.find_element(By.CLASS_NAME,\"gLFyf \")\n",
    "search_bar.send_keys('fruit')"
   ]
  },
  {
   "cell_type": "code",
   "execution_count": 16,
   "id": "8f6923d7",
   "metadata": {},
   "outputs": [],
   "source": [
    "search_but=driver.find_element(By.CLASS_NAME,\"gNO89b\")\n",
    "search_but.click()"
   ]
  },
  {
   "cell_type": "code",
   "execution_count": 19,
   "id": "84438693",
   "metadata": {},
   "outputs": [],
   "source": [
    "img_but=driver.find_element(By.CLASS_NAME,\"O3S9Rb\")\n",
    "img_but.click()"
   ]
  },
  {
   "cell_type": "code",
   "execution_count": 20,
   "id": "936c07e6",
   "metadata": {},
   "outputs": [],
   "source": [
    "for _ in range(10):\n",
    "    driver.execute_script(\"window.scrollBy(0,500)\")\n",
    "    \n",
    "images=driver.find_elements(By.XPATH,'//img[@class=\"rg_i Q4LuWd\"]')\n",
    "img_urls=[]\n",
    "img_data=[]\n",
    "for image in images:\n",
    "    source=image.get_attribute('src')\n",
    "    if source is not None:\n",
    "        if (source[0:4]=='http'):  #IF FIRST 4 CHARACTER START HTTP\n",
    "            img_urls.append(source)\n"
   ]
  },
  {
   "cell_type": "code",
   "execution_count": 21,
   "id": "306a7b5d",
   "metadata": {},
   "outputs": [
    {
     "data": {
      "text/plain": [
       "['https://encrypted-tbn0.gstatic.com/images?q=tbn:ANd9GcScPtz2ZoMJHYnZgrOoX4fWicItWpJT0savJQ&usqp=CAU',\n",
       " 'https://encrypted-tbn0.gstatic.com/images?q=tbn:ANd9GcRHgMP84MLgKF4tDPBir-Fl5DIReKkRr9jJrg&usqp=CAU',\n",
       " 'https://encrypted-tbn0.gstatic.com/images?q=tbn:ANd9GcQcvstOTTMg-g9VC5FMJMfg28vtlQXkN6NeXg&usqp=CAU',\n",
       " 'https://encrypted-tbn0.gstatic.com/images?q=tbn:ANd9GcRqMfXaaHNUvy3SRkEBJu4GUMeBKK8LBGZcwQ&usqp=CAU',\n",
       " 'https://encrypted-tbn0.gstatic.com/images?q=tbn:ANd9GcSX-y3QaiD_xxhD-f2iw_-dYL1w5dPdS-QaPA&usqp=CAU',\n",
       " 'https://encrypted-tbn0.gstatic.com/images?q=tbn:ANd9GcRVLXUAplzWBsdpJt5YBMcGwHVdES93nk_Otw&usqp=CAU',\n",
       " 'https://encrypted-tbn0.gstatic.com/images?q=tbn:ANd9GcT2E2lTsncfBr4JAKI89OrNe6sRD5thA2MmqQ&usqp=CAU',\n",
       " 'https://encrypted-tbn0.gstatic.com/images?q=tbn:ANd9GcS49Y1i-fIXXLnsJsc-tLJSKid3M9g8GrlT5g&usqp=CAU',\n",
       " 'https://encrypted-tbn0.gstatic.com/images?q=tbn:ANd9GcT66_3ItPbKrGMCWEvTBgbtqAAhQvmwV40-lw&usqp=CAU',\n",
       " 'https://encrypted-tbn0.gstatic.com/images?q=tbn:ANd9GcTu1Kjms532dsp8GeiBde2rgUOvZjhO9uybYg&usqp=CAU',\n",
       " 'https://encrypted-tbn0.gstatic.com/images?q=tbn:ANd9GcSc1ErEx7DuJ_RPdImy3f2tsf9zsIrIfCqkrQ&usqp=CAU',\n",
       " 'https://encrypted-tbn0.gstatic.com/images?q=tbn:ANd9GcSaQ7fEFlrJNwNqPEtRMdgT8KRxvvnTFlHtBQ&usqp=CAU',\n",
       " 'https://encrypted-tbn0.gstatic.com/images?q=tbn:ANd9GcRhUeuu9prjNkDfEFlbmxnVUPaF4wEfx0Uhig&usqp=CAU',\n",
       " 'https://encrypted-tbn0.gstatic.com/images?q=tbn:ANd9GcSOx3_pe21yU3n6WLmv-dDOCgt6Kv3cKPu-Ng&usqp=CAU',\n",
       " 'https://encrypted-tbn0.gstatic.com/images?q=tbn:ANd9GcRvnXFwrk_PWtUpvJiRjp7fRFKDchw4AnG4KA&usqp=CAU',\n",
       " 'https://encrypted-tbn0.gstatic.com/images?q=tbn:ANd9GcSB40Fs95heufnHKhJzfyGg69VJLlgiW2DFBQ&usqp=CAU',\n",
       " 'https://encrypted-tbn0.gstatic.com/images?q=tbn:ANd9GcRJkuh-iAxgyp5VC3pjNZFAHtbIClvUPJvACg&usqp=CAU',\n",
       " 'https://encrypted-tbn0.gstatic.com/images?q=tbn:ANd9GcR3W7sYx4w13U6vZtYu8HGhsXbKBpwdtUzFGg&usqp=CAU',\n",
       " 'https://encrypted-tbn0.gstatic.com/images?q=tbn:ANd9GcT_9tFlrYKPA13wG7IjiT8YuC92HsPCGl8QAw&usqp=CAU',\n",
       " 'https://encrypted-tbn0.gstatic.com/images?q=tbn:ANd9GcTV-MGhmQ6qEarSLvBDY-iPP4aT8p-4-rFZUA&usqp=CAU',\n",
       " 'https://encrypted-tbn0.gstatic.com/images?q=tbn:ANd9GcQqLAeBdJ1DJrYU44TA01uFj-9wM-v5oFGA3w&usqp=CAU',\n",
       " 'https://encrypted-tbn0.gstatic.com/images?q=tbn:ANd9GcSCqMY0Ze1mx8Wm3_zyFCu2rkHR8O5AZcObDw&usqp=CAU',\n",
       " 'https://encrypted-tbn0.gstatic.com/images?q=tbn:ANd9GcQE23vrVhtGDHaLLG1woyOJUKNEQk-jI2DA8w&usqp=CAU',\n",
       " 'https://encrypted-tbn0.gstatic.com/images?q=tbn:ANd9GcSgg9aPlXXJigYsyGZvQb5zssOu08AMLA-Vnw&usqp=CAU',\n",
       " 'https://encrypted-tbn0.gstatic.com/images?q=tbn:ANd9GcREf50eNWUXvnoP0sP9x8SZUILcwQHHImfm1A&usqp=CAU',\n",
       " 'https://encrypted-tbn0.gstatic.com/images?q=tbn:ANd9GcT5jdVjZzv7AZRgRVwL9_j9rAF0OFdhniPAJQ&usqp=CAU',\n",
       " 'https://encrypted-tbn0.gstatic.com/images?q=tbn:ANd9GcRb8pOojAEhqtRfCks1g-qoZQStlPtMbDrJ-Q&usqp=CAU',\n",
       " 'https://encrypted-tbn0.gstatic.com/images?q=tbn:ANd9GcQ5-Pg5GSBXN58l0nDU_J47_jXWx0V6lPUAjQ&usqp=CAU',\n",
       " 'https://encrypted-tbn0.gstatic.com/images?q=tbn:ANd9GcTGDMKrIzfUE1ZJbPdl2LwMYqfVLtTxmwzjrA&usqp=CAU',\n",
       " 'https://encrypted-tbn0.gstatic.com/images?q=tbn:ANd9GcRgBamEr2EH145AhlUipkWIZLu3I1o3ZLl9KQ&usqp=CAU',\n",
       " 'https://encrypted-tbn0.gstatic.com/images?q=tbn:ANd9GcS-pM2cVm5aP1LOpQmwK2y41Ohv81XUmeds5g&usqp=CAU',\n",
       " 'https://encrypted-tbn0.gstatic.com/images?q=tbn:ANd9GcQ-kHjg_2unFsYQUVqUaNyCPqKjKsMioOoDcA&usqp=CAU']"
      ]
     },
     "execution_count": 21,
     "metadata": {},
     "output_type": "execute_result"
    }
   ],
   "source": [
    "img_urls"
   ]
  },
  {
   "cell_type": "code",
   "execution_count": 27,
   "id": "46c10af5",
   "metadata": {},
   "outputs": [],
   "source": [
    "import requests"
   ]
  },
  {
   "cell_type": "code",
   "execution_count": 28,
   "id": "e98de697",
   "metadata": {},
   "outputs": [
    {
     "name": "stdout",
     "output_type": "stream",
     "text": [
      "Downloding 0 of 41 images\n",
      "Downloding 1 of 41 images\n",
      "Downloding 2 of 41 images\n",
      "Downloding 3 of 41 images\n",
      "Downloding 4 of 41 images\n",
      "Downloding 5 of 41 images\n",
      "Downloding 6 of 41 images\n",
      "Downloding 7 of 41 images\n",
      "Downloding 8 of 41 images\n",
      "Downloding 9 of 41 images\n",
      "Downloding 10 of 41 images\n",
      "Downloding 11 of 41 images\n",
      "Downloding 12 of 41 images\n",
      "Downloding 13 of 41 images\n",
      "Downloding 14 of 41 images\n",
      "Downloding 15 of 41 images\n",
      "Downloding 16 of 41 images\n",
      "Downloding 17 of 41 images\n",
      "Downloding 18 of 41 images\n",
      "Downloding 19 of 41 images\n",
      "Downloding 20 of 41 images\n",
      "Downloding 21 of 41 images\n",
      "Downloding 22 of 41 images\n",
      "Downloding 23 of 41 images\n",
      "Downloding 24 of 41 images\n",
      "Downloding 25 of 41 images\n",
      "Downloding 26 of 41 images\n",
      "Downloding 27 of 41 images\n",
      "Downloding 28 of 41 images\n",
      "Downloding 29 of 41 images\n",
      "Downloding 30 of 41 images\n",
      "Downloding 31 of 41 images\n"
     ]
    }
   ],
   "source": [
    "for i in range(len(img_urls)):\n",
    "    #if i >10:\n",
    "       # breakBy.XPATH,\n",
    "    print(\"Downloding {0} of {1} images\".format(i,41))\n",
    "    response=requests.get(img_urls[i])\n",
    "    file=open(r\"C:\\Users\\Dell\\Desktop\\asig3\\img\"+str(i)+\".jpg\",\"wb\")\n",
    "    file.write(response.content)"
   ]
  },
  {
   "cell_type": "code",
   "execution_count": null,
   "id": "44f6ca09",
   "metadata": {},
   "outputs": [],
   "source": [
    "# scraping car"
   ]
  },
  {
   "cell_type": "code",
   "execution_count": 29,
   "id": "267c0f1b",
   "metadata": {},
   "outputs": [],
   "source": [
    "driver=webdriver.Chrome(r\"chromedriver.exe\")"
   ]
  },
  {
   "cell_type": "code",
   "execution_count": 30,
   "id": "b82ea6ce",
   "metadata": {},
   "outputs": [],
   "source": [
    "driver.get(\"https://www.google.com/\")"
   ]
  },
  {
   "cell_type": "code",
   "execution_count": 32,
   "id": "e5096546",
   "metadata": {},
   "outputs": [],
   "source": [
    "delay=10"
   ]
  },
  {
   "cell_type": "code",
   "execution_count": 33,
   "id": "12b4f339",
   "metadata": {},
   "outputs": [],
   "source": [
    "search_bar=driver.find_element(By.CLASS_NAME,\"gLFyf \")\n",
    "search_bar.send_keys('car')"
   ]
  },
  {
   "cell_type": "code",
   "execution_count": 34,
   "id": "5b4f427d",
   "metadata": {},
   "outputs": [],
   "source": [
    "search_but=driver.find_element(By.CLASS_NAME,\"gNO89b\")\n",
    "search_but.click()"
   ]
  },
  {
   "cell_type": "code",
   "execution_count": 35,
   "id": "9f55525b",
   "metadata": {},
   "outputs": [],
   "source": [
    "img_but=driver.find_element(By.CLASS_NAME,\"O3S9Rb\")\n",
    "img_but.click()"
   ]
  },
  {
   "cell_type": "code",
   "execution_count": 36,
   "id": "d5e0cb8e",
   "metadata": {},
   "outputs": [],
   "source": [
    "for _ in range(10):\n",
    "    driver.execute_script(\"window.scrollBy(0,500)\")\n",
    "    \n",
    "images=driver.find_elements(By.XPATH,'//img[@class=\"rg_i Q4LuWd\"]')\n",
    "img_urls=[]\n",
    "img_data=[]\n",
    "for image in images:\n",
    "    source=image.get_attribute('src')\n",
    "    if source is not None:\n",
    "        if (source[0:4]=='http'):  #IF FIRST 4 CHARACTER START HTTP\n",
    "            img_urls.append(source)\n"
   ]
  },
  {
   "cell_type": "code",
   "execution_count": 37,
   "id": "74deb3d0",
   "metadata": {},
   "outputs": [
    {
     "data": {
      "text/plain": [
       "['https://encrypted-tbn0.gstatic.com/images?q=tbn:ANd9GcTMWSwOsvpUQRGuhwMrs18Ax2piMUnXU_l0Lg&usqp=CAU',\n",
       " 'https://encrypted-tbn0.gstatic.com/images?q=tbn:ANd9GcT1sFFYy7-UVamOoWraRoTtGfCwpJx5ZG2wpw&usqp=CAU',\n",
       " 'https://encrypted-tbn0.gstatic.com/images?q=tbn:ANd9GcRkR528mnkuazs_RlihF2BLdRUrA2QIGyF9ig&usqp=CAU',\n",
       " 'https://encrypted-tbn0.gstatic.com/images?q=tbn:ANd9GcThT96x2lj4BIUWHpnUSidcb4IWF4DeQXIn0g&usqp=CAU',\n",
       " 'https://encrypted-tbn0.gstatic.com/images?q=tbn:ANd9GcRpVwz_xsqGX88fakzZkpmwo_pgkxrjTEvt7A&usqp=CAU',\n",
       " 'https://encrypted-tbn0.gstatic.com/images?q=tbn:ANd9GcSjLJ9hd1DR6NbzHqvZrUSDjKXNlCOliys9wQ&usqp=CAU',\n",
       " 'https://encrypted-tbn0.gstatic.com/images?q=tbn:ANd9GcSy56z_UwHxskZ_My3OtEWqKgoNaB6BE_-6uA&usqp=CAU',\n",
       " 'https://encrypted-tbn0.gstatic.com/images?q=tbn:ANd9GcQJisSItbtcblOGxUkNU3S0SfpawxcGVBb1bQ&usqp=CAU',\n",
       " 'https://encrypted-tbn0.gstatic.com/images?q=tbn:ANd9GcSqgDgDSmKJND58PLN4Ho-aHkDp_646uKWZkw&usqp=CAU',\n",
       " 'https://encrypted-tbn0.gstatic.com/images?q=tbn:ANd9GcRMF-vDxa-ER-Voek-SZAlgC0nCsV2LqThNBA&usqp=CAU',\n",
       " 'https://encrypted-tbn0.gstatic.com/images?q=tbn:ANd9GcS3p_AcdP57OmYbC6qR2u8dWdkTrHORPS3OGw&usqp=CAU',\n",
       " 'https://encrypted-tbn0.gstatic.com/images?q=tbn:ANd9GcSBVgkSLVmBfrDOVMgbYtPqOAwD9r32VbEkxw&usqp=CAU',\n",
       " 'https://encrypted-tbn0.gstatic.com/images?q=tbn:ANd9GcSljdyyHYaFcn5W3T_qSYjGk8OsmGMRHE229w&usqp=CAU',\n",
       " 'https://encrypted-tbn0.gstatic.com/images?q=tbn:ANd9GcRK-tPAoqc9LBIcE48PXpt18xDSHuv5o835dg&usqp=CAU',\n",
       " 'https://encrypted-tbn0.gstatic.com/images?q=tbn:ANd9GcRL-eWM8Si9XLBKzZRdWDc_fxi4SXCvWu4xsg&usqp=CAU',\n",
       " 'https://encrypted-tbn0.gstatic.com/images?q=tbn:ANd9GcS8pKAmHWL4cBtIyhLyjEpDOMfC1IoNDc87Dw&usqp=CAU',\n",
       " 'https://encrypted-tbn0.gstatic.com/images?q=tbn:ANd9GcS4M9KI_4aRw3oCydWnNUuQKfvC_yfStPzhoA&usqp=CAU',\n",
       " 'https://encrypted-tbn0.gstatic.com/images?q=tbn:ANd9GcSdaIIAe8Xgl0F6aVxlu6B9mNKoBtgHP4phGg&usqp=CAU',\n",
       " 'https://encrypted-tbn0.gstatic.com/images?q=tbn:ANd9GcTok0Eot0sRC3wh5LfKv5JUXWr7MgssH_--jw&usqp=CAU',\n",
       " 'https://encrypted-tbn0.gstatic.com/images?q=tbn:ANd9GcTe8kx59jo4rI5rswab3fiPwxFY9sKkLuulmw&usqp=CAU',\n",
       " 'https://encrypted-tbn0.gstatic.com/images?q=tbn:ANd9GcRXAUuzUCaSforPwGPQuUWGhikuoJboSPKIMA&usqp=CAU',\n",
       " 'https://encrypted-tbn0.gstatic.com/images?q=tbn:ANd9GcS0rOTCQUNHz3b-SXcbtTnY_2Ynf-IWDIV6Zw&usqp=CAU',\n",
       " 'https://encrypted-tbn0.gstatic.com/images?q=tbn:ANd9GcRI--slhEIyGWneIAzxey-VO3Pv1KUsd59J6g&usqp=CAU',\n",
       " 'https://encrypted-tbn0.gstatic.com/images?q=tbn:ANd9GcRGRRkfQf1rRVlkgyYdQbY5rnGQM-crEQB_mg&usqp=CAU',\n",
       " 'https://encrypted-tbn0.gstatic.com/images?q=tbn:ANd9GcSXJ2GpH4GMfyagZA71TjCVOJeqbeva8cfNLw&usqp=CAU',\n",
       " 'https://encrypted-tbn0.gstatic.com/images?q=tbn:ANd9GcQ7Lj-zdl3KqRG-tu7aq39KThM88WEQZT3eIA&usqp=CAU',\n",
       " 'https://encrypted-tbn0.gstatic.com/images?q=tbn:ANd9GcQ84-ILnb8Cf_3xEJf4CSwjiKzij_EcJd0J9g&usqp=CAU',\n",
       " 'https://encrypted-tbn0.gstatic.com/images?q=tbn:ANd9GcQm40gNrEI9H9nVEhJOAB7Mf6htBPesL_xGdg&usqp=CAU',\n",
       " 'https://encrypted-tbn0.gstatic.com/images?q=tbn:ANd9GcQcX9DX7ew5OmXIdNVUUeogrbx29PQoa8jqrA&usqp=CAU',\n",
       " 'https://encrypted-tbn0.gstatic.com/images?q=tbn:ANd9GcSPTXYOJCG-NmDxyu_Rzo6oO5OMgCdRWgTkkA&usqp=CAU',\n",
       " 'https://encrypted-tbn0.gstatic.com/images?q=tbn:ANd9GcTkUSAAY9oUQQHhHD0vF8gJ-c6yE_bJdS0dAA&usqp=CAU',\n",
       " 'https://encrypted-tbn0.gstatic.com/images?q=tbn:ANd9GcTFTYTUm7qSdoyhQuL6gCLxQj9mbT3AaMlHbA&usqp=CAU',\n",
       " 'https://encrypted-tbn0.gstatic.com/images?q=tbn:ANd9GcR9lnaHnIsJ5QUoVgwts4eSJibGWYc309Nugw&usqp=CAU',\n",
       " 'https://encrypted-tbn0.gstatic.com/images?q=tbn:ANd9GcSHi_MJimNeoj55k2zpwAMG6GQAy-zSIoqy_Q&usqp=CAU',\n",
       " 'https://encrypted-tbn0.gstatic.com/images?q=tbn:ANd9GcSL_hpK-TeMUY2YYvlgZpJluh3c61--S4HLqA&usqp=CAU',\n",
       " 'https://encrypted-tbn0.gstatic.com/images?q=tbn:ANd9GcQYyI62zSO8m7vbtqllnWjBnSxMs9uDaQMGeQ&usqp=CAU',\n",
       " 'https://encrypted-tbn0.gstatic.com/images?q=tbn:ANd9GcR2q7oa0IfdhILQx8U5xN6bav6D_1GC59tJAQ&usqp=CAU',\n",
       " 'https://encrypted-tbn0.gstatic.com/images?q=tbn:ANd9GcQ5kEhz8kWPfT53ac6oiHZYs4je6WWxillLmQ&usqp=CAU',\n",
       " 'https://encrypted-tbn0.gstatic.com/images?q=tbn:ANd9GcSkvWl8byPnvUx0kSd-3rvSoGkRG9zXYeSYJg&usqp=CAU',\n",
       " 'https://encrypted-tbn0.gstatic.com/images?q=tbn:ANd9GcR4YECAWoK6EJFgGup_iLUseWY3du8rXfICvA&usqp=CAU',\n",
       " 'https://encrypted-tbn0.gstatic.com/images?q=tbn:ANd9GcQzYgg1rkEHsuKcnZcQwzGZUgexIzxS-vYSTA&usqp=CAU',\n",
       " 'https://encrypted-tbn0.gstatic.com/images?q=tbn:ANd9GcTyz-t9qMRSJEXFghsW9y1mUnmtJE3A8TYs3g&usqp=CAU',\n",
       " 'https://encrypted-tbn0.gstatic.com/images?q=tbn:ANd9GcRtblIWCUCU6KVxkb4yWV2k2kCWVnphkNCyig&usqp=CAU',\n",
       " 'https://encrypted-tbn0.gstatic.com/images?q=tbn:ANd9GcQ_KE8lHSI_Q8WUcgEgyl3RadRRGHoAoBrKKw&usqp=CAU',\n",
       " 'https://encrypted-tbn0.gstatic.com/images?q=tbn:ANd9GcScPjoNiGaMpXRVXKuFUKkTFGhMEP3fWbAD_A&usqp=CAU',\n",
       " 'https://encrypted-tbn0.gstatic.com/images?q=tbn:ANd9GcSBxU5n8qKp4smN8qc_vvOlbofSau8hdqfybA&usqp=CAU',\n",
       " 'https://encrypted-tbn0.gstatic.com/images?q=tbn:ANd9GcSKooP7nn3TPm8w3K1zkD19EBdpZs8t3VfO-g&usqp=CAU',\n",
       " 'https://encrypted-tbn0.gstatic.com/images?q=tbn:ANd9GcR3_A7CTadFBixxtrBtaVvhRG6XM8JQLFSwQg&usqp=CAU',\n",
       " 'https://encrypted-tbn0.gstatic.com/images?q=tbn:ANd9GcShoAChsN0ikDICDgXtH5Hcvq8ry1VpABoErQ&usqp=CAU',\n",
       " 'https://encrypted-tbn0.gstatic.com/images?q=tbn:ANd9GcTP_FEUWmCs5lCCpRk7ZJ6MWneKvb3Czm68KA&usqp=CAU',\n",
       " 'https://encrypted-tbn0.gstatic.com/images?q=tbn:ANd9GcTW2UWxpwGmPG18lYS4So7ytkxWaBeVLnNHBA&usqp=CAU',\n",
       " 'https://encrypted-tbn0.gstatic.com/images?q=tbn:ANd9GcRYVJY7HfHwUcCzQaf4rJJXCWa4WS5QUif6Jg&usqp=CAU',\n",
       " 'https://encrypted-tbn0.gstatic.com/images?q=tbn:ANd9GcRYRz6vjJxEnn3_5QhO6KWjht9H4wwLtA9olw&usqp=CAU',\n",
       " 'https://encrypted-tbn0.gstatic.com/images?q=tbn:ANd9GcQhyjaSeZVDEOW1P1LLPgHeHYaC-MkJmR-4iQ&usqp=CAU',\n",
       " 'https://encrypted-tbn0.gstatic.com/images?q=tbn:ANd9GcSHFvenDq4nX-LgsmrRPamE9i-NMBkefW7Lzg&usqp=CAU',\n",
       " 'https://encrypted-tbn0.gstatic.com/images?q=tbn:ANd9GcSniTV1SPsSHQviWbI3cYoQWb98mjbdQIgXHQ&usqp=CAU',\n",
       " 'https://encrypted-tbn0.gstatic.com/images?q=tbn:ANd9GcRiqd8oVw2eecKkBuEAU8-iOTwRPGDWYOGyMg&usqp=CAU']"
      ]
     },
     "execution_count": 37,
     "metadata": {},
     "output_type": "execute_result"
    }
   ],
   "source": [
    "img_urls"
   ]
  },
  {
   "cell_type": "code",
   "execution_count": 38,
   "id": "8edef015",
   "metadata": {},
   "outputs": [],
   "source": [
    "import requests"
   ]
  },
  {
   "cell_type": "code",
   "execution_count": 39,
   "id": "3c738369",
   "metadata": {},
   "outputs": [
    {
     "name": "stdout",
     "output_type": "stream",
     "text": [
      "Downloding 0 of 41 images\n",
      "Downloding 1 of 41 images\n",
      "Downloding 2 of 41 images\n",
      "Downloding 3 of 41 images\n",
      "Downloding 4 of 41 images\n",
      "Downloding 5 of 41 images\n",
      "Downloding 6 of 41 images\n",
      "Downloding 7 of 41 images\n",
      "Downloding 8 of 41 images\n",
      "Downloding 9 of 41 images\n",
      "Downloding 10 of 41 images\n",
      "Downloding 11 of 41 images\n",
      "Downloding 12 of 41 images\n",
      "Downloding 13 of 41 images\n",
      "Downloding 14 of 41 images\n",
      "Downloding 15 of 41 images\n",
      "Downloding 16 of 41 images\n",
      "Downloding 17 of 41 images\n",
      "Downloding 18 of 41 images\n",
      "Downloding 19 of 41 images\n",
      "Downloding 20 of 41 images\n",
      "Downloding 21 of 41 images\n",
      "Downloding 22 of 41 images\n",
      "Downloding 23 of 41 images\n",
      "Downloding 24 of 41 images\n",
      "Downloding 25 of 41 images\n",
      "Downloding 26 of 41 images\n",
      "Downloding 27 of 41 images\n",
      "Downloding 28 of 41 images\n",
      "Downloding 29 of 41 images\n",
      "Downloding 30 of 41 images\n",
      "Downloding 31 of 41 images\n",
      "Downloding 32 of 41 images\n",
      "Downloding 33 of 41 images\n",
      "Downloding 34 of 41 images\n",
      "Downloding 35 of 41 images\n",
      "Downloding 36 of 41 images\n",
      "Downloding 37 of 41 images\n",
      "Downloding 38 of 41 images\n",
      "Downloding 39 of 41 images\n",
      "Downloding 40 of 41 images\n",
      "Downloding 41 of 41 images\n",
      "Downloding 42 of 41 images\n",
      "Downloding 43 of 41 images\n",
      "Downloding 44 of 41 images\n",
      "Downloding 45 of 41 images\n",
      "Downloding 46 of 41 images\n",
      "Downloding 47 of 41 images\n",
      "Downloding 48 of 41 images\n",
      "Downloding 49 of 41 images\n",
      "Downloding 50 of 41 images\n",
      "Downloding 51 of 41 images\n",
      "Downloding 52 of 41 images\n",
      "Downloding 53 of 41 images\n",
      "Downloding 54 of 41 images\n",
      "Downloding 55 of 41 images\n",
      "Downloding 56 of 41 images\n"
     ]
    }
   ],
   "source": [
    "for i in range(len(img_urls)):\n",
    "    #if i >10:\n",
    "       # breakBy.XPATH,\n",
    "    print(\"Downloding {0} of {1} images\".format(i,41))\n",
    "    response=requests.get(img_urls[i])\n",
    "    file=open(r\"C:\\Users\\Dell\\Desktop\\asig3\\img\\car\"+str(i)+\".jpg\",\"wb\")\n",
    "    file.write(response.content)"
   ]
  },
  {
   "cell_type": "code",
   "execution_count": null,
   "id": "572c3b44",
   "metadata": {},
   "outputs": [],
   "source": [
    "# scraping guiter"
   ]
  },
  {
   "cell_type": "code",
   "execution_count": 40,
   "id": "51b859f6",
   "metadata": {},
   "outputs": [],
   "source": [
    "driver=webdriver.Chrome(r\"chromedriver.exe\")"
   ]
  },
  {
   "cell_type": "code",
   "execution_count": 41,
   "id": "7f2a4121",
   "metadata": {},
   "outputs": [],
   "source": [
    "driver.get(\"https://www.google.com/\")"
   ]
  },
  {
   "cell_type": "code",
   "execution_count": 42,
   "id": "96ba8591",
   "metadata": {},
   "outputs": [],
   "source": [
    "delay=10"
   ]
  },
  {
   "cell_type": "code",
   "execution_count": 43,
   "id": "cb3127d1",
   "metadata": {},
   "outputs": [],
   "source": [
    "search_bar=driver.find_element(By.CLASS_NAME,\"gLFyf \")\n",
    "search_bar.send_keys('guiter')"
   ]
  },
  {
   "cell_type": "code",
   "execution_count": 44,
   "id": "50862611",
   "metadata": {},
   "outputs": [],
   "source": [
    "search_but=driver.find_element(By.CLASS_NAME,\"gNO89b\")\n",
    "search_but.click()"
   ]
  },
  {
   "cell_type": "code",
   "execution_count": 47,
   "id": "cd079320",
   "metadata": {},
   "outputs": [],
   "source": [
    "img_but=driver.find_element(By.XPATH,\"/html/body/div[7]/div/div[4]/div/div[1]/div/div[1]/div/div[2]/a\")\n",
    "img_but.click()"
   ]
  },
  {
   "cell_type": "code",
   "execution_count": 48,
   "id": "07512fa1",
   "metadata": {},
   "outputs": [],
   "source": [
    "for _ in range(10):\n",
    "    driver.execute_script(\"window.scrollBy(0,500)\")\n",
    "    \n",
    "images=driver.find_elements(By.XPATH,'//img[@class=\"rg_i Q4LuWd\"]')\n",
    "img_urls=[]\n",
    "img_data=[]\n",
    "for image in images:\n",
    "    source=image.get_attribute('src')\n",
    "    if source is not None:\n",
    "        if (source[0:4]=='http'):  #IF FIRST 4 CHARACTER START HTTP\n",
    "            img_urls.append(source)\n"
   ]
  },
  {
   "cell_type": "code",
   "execution_count": 49,
   "id": "73618cb0",
   "metadata": {},
   "outputs": [
    {
     "data": {
      "text/plain": [
       "43"
      ]
     },
     "execution_count": 49,
     "metadata": {},
     "output_type": "execute_result"
    }
   ],
   "source": [
    "len(img_urls)"
   ]
  },
  {
   "cell_type": "code",
   "execution_count": 27,
   "id": "101959e4",
   "metadata": {},
   "outputs": [],
   "source": [
    "import requests"
   ]
  },
  {
   "cell_type": "code",
   "execution_count": 50,
   "id": "3e59168f",
   "metadata": {},
   "outputs": [
    {
     "name": "stdout",
     "output_type": "stream",
     "text": [
      "Downloding 0 of 43 images\n",
      "Downloding 1 of 43 images\n",
      "Downloding 2 of 43 images\n",
      "Downloding 3 of 43 images\n",
      "Downloding 4 of 43 images\n",
      "Downloding 5 of 43 images\n",
      "Downloding 6 of 43 images\n",
      "Downloding 7 of 43 images\n",
      "Downloding 8 of 43 images\n",
      "Downloding 9 of 43 images\n",
      "Downloding 10 of 43 images\n",
      "Downloding 11 of 43 images\n",
      "Downloding 12 of 43 images\n",
      "Downloding 13 of 43 images\n",
      "Downloding 14 of 43 images\n",
      "Downloding 15 of 43 images\n",
      "Downloding 16 of 43 images\n",
      "Downloding 17 of 43 images\n",
      "Downloding 18 of 43 images\n",
      "Downloding 19 of 43 images\n",
      "Downloding 20 of 43 images\n",
      "Downloding 21 of 43 images\n",
      "Downloding 22 of 43 images\n",
      "Downloding 23 of 43 images\n",
      "Downloding 24 of 43 images\n",
      "Downloding 25 of 43 images\n",
      "Downloding 26 of 43 images\n",
      "Downloding 27 of 43 images\n",
      "Downloding 28 of 43 images\n",
      "Downloding 29 of 43 images\n",
      "Downloding 30 of 43 images\n",
      "Downloding 31 of 43 images\n",
      "Downloding 32 of 43 images\n",
      "Downloding 33 of 43 images\n",
      "Downloding 34 of 43 images\n",
      "Downloding 35 of 43 images\n",
      "Downloding 36 of 43 images\n",
      "Downloding 37 of 43 images\n",
      "Downloding 38 of 43 images\n",
      "Downloding 39 of 43 images\n",
      "Downloding 40 of 43 images\n",
      "Downloding 41 of 43 images\n",
      "Downloding 42 of 43 images\n"
     ]
    }
   ],
   "source": [
    "for i in range(len(img_urls)):\n",
    "    #if i >10:\n",
    "       # breakBy.XPATH,\n",
    "    print(\"Downloding {0} of {1} images\".format(i,43))\n",
    "    response=requests.get(img_urls[i])\n",
    "    file=open(r\"C:\\Users\\Dell\\Desktop\\asig3\\img\"+str(i)+\".jpg\",\"wb\")\n",
    "    file.write(response.content)"
   ]
  },
  {
   "cell_type": "code",
   "execution_count": null,
   "id": "608eb6b7",
   "metadata": {},
   "outputs": [],
   "source": [
    "#Q 4) Write a python program to search for a smartphone(e.g.: Oneplus Nord, pixel 4A, etc.) on www.flipkart.com\n",
    "#and scrape following details for all the search results displayed on 1st page. Details to be scraped: “Brand\n",
    "#Name”, “Smartphone name”, “Colour”, “RAM”, “Storage(ROM)”, “Primary Camera”,\n",
    "#“Secondary Camera”, “Display Size”, “Battery Capacity”, “Price”, “Product URL”. Incase if any of the\n",
    "#details is missing then replace it by “- “. Save your results in a dataframe and CSV."
   ]
  },
  {
   "cell_type": "code",
   "execution_count": 2,
   "id": "018a2c3b",
   "metadata": {},
   "outputs": [],
   "source": [
    "driver=webdriver.Chrome(r\"chromedriver.exe\")"
   ]
  },
  {
   "cell_type": "code",
   "execution_count": 3,
   "id": "f42f6382",
   "metadata": {},
   "outputs": [],
   "source": [
    "driver.get(\"https://www.flipkart.com/\")"
   ]
  },
  {
   "cell_type": "code",
   "execution_count": 4,
   "id": "2384bf48",
   "metadata": {},
   "outputs": [],
   "source": [
    "delay=10"
   ]
  },
  {
   "cell_type": "code",
   "execution_count": 5,
   "id": "dfd78f37",
   "metadata": {},
   "outputs": [],
   "source": [
    "search_bar=driver.find_element(By.CLASS_NAME,\"_3704LK \")\n",
    "search_bar.send_keys('Oneplus Nord')"
   ]
  },
  {
   "cell_type": "code",
   "execution_count": 7,
   "id": "8d4d8d3b",
   "metadata": {},
   "outputs": [],
   "source": [
    "search_but=driver.find_element(By.CLASS_NAME,\"L0Z3Pu\")\n",
    "search_but.click()"
   ]
  },
  {
   "cell_type": "code",
   "execution_count": 61,
   "id": "ecfe13f8",
   "metadata": {},
   "outputs": [],
   "source": [
    "brand_name=[]"
   ]
  },
  {
   "cell_type": "code",
   "execution_count": 62,
   "id": "94bc79ed",
   "metadata": {},
   "outputs": [],
   "source": [
    "brand_tags=driver.find_elements(By.XPATH,'//div[@class=\"_4rR01T\"]')\n",
    "for i in brand_tags:\n",
    "    brand=i.text\n",
    "    brand_name.append(brand.split()[0:2])\n",
    "    "
   ]
  },
  {
   "cell_type": "code",
   "execution_count": 63,
   "id": "1eefffb6",
   "metadata": {},
   "outputs": [
    {
     "data": {
      "text/plain": [
       "[['OnePlus', 'Nord'],\n",
       " ['OnePlus', 'Nord'],\n",
       " ['OnePlus', 'Nord'],\n",
       " ['OnePlus', 'Nord'],\n",
       " ['OnePlus', 'Nord'],\n",
       " ['OnePlus', 'Nord'],\n",
       " ['OnePlus', 'Nord'],\n",
       " ['OnePlus', 'Nord'],\n",
       " ['OnePlus', 'Nord'],\n",
       " ['OnePlus', 'Nord'],\n",
       " ['OnePlus', 'Nord'],\n",
       " ['OnePlus', 'Nord'],\n",
       " ['OnePlus', 'Nord'],\n",
       " ['OnePlus', 'Nord'],\n",
       " ['OnePlus', 'Nord'],\n",
       " ['OnePlus', 'Nord'],\n",
       " ['OnePlus', 'Nord'],\n",
       " ['OnePlus', 'Nord'],\n",
       " ['OnePlus', 'Nord'],\n",
       " ['OnePlus', 'Nord'],\n",
       " ['OnePlus', 'Nord'],\n",
       " ['OnePlus', 'Nord'],\n",
       " ['OnePlus', 'Nord'],\n",
       " ['OnePlus', 'Nord']]"
      ]
     },
     "execution_count": 63,
     "metadata": {},
     "output_type": "execute_result"
    }
   ],
   "source": [
    "brand_name"
   ]
  },
  {
   "cell_type": "code",
   "execution_count": 65,
   "id": "c30c0c0e",
   "metadata": {},
   "outputs": [],
   "source": [
    "color_name=[]"
   ]
  },
  {
   "cell_type": "code",
   "execution_count": 66,
   "id": "9d772b48",
   "metadata": {},
   "outputs": [],
   "source": [
    "color_tags=driver.find_elements(By.XPATH,'//div[@class=\"_4rR01T\"]')\n",
    "for i in color_tags:\n",
    "    color=i.text\n",
    "    color_name.append(color.split()[-4:-2])\n",
    "    "
   ]
  },
  {
   "cell_type": "code",
   "execution_count": 67,
   "id": "72736440",
   "metadata": {},
   "outputs": [
    {
     "data": {
      "text/plain": [
       "[['(Black', 'Dusk,'],\n",
       " ['(Black', 'Dusk,'],\n",
       " ['(Charcoal', 'Ink,'],\n",
       " ['(Blue', 'Tide,'],\n",
       " ['(Jade', 'Fog,'],\n",
       " ['(Gray', 'Sierra,'],\n",
       " ['(Gray', 'Mirror,'],\n",
       " ['(Blue', 'Tide,'],\n",
       " ['(Blue', 'Void,'],\n",
       " ['(Charcoal', 'Ink,'],\n",
       " ['(Gray', 'Shadow,'],\n",
       " ['(Gray', 'Shadow,'],\n",
       " ['(Gray', 'Mirror,'],\n",
       " ['(Blue', 'Haze,'],\n",
       " ['(Blue', 'Haze,'],\n",
       " ['(Gray', 'Mirror,'],\n",
       " ['(Blue', 'Void,'],\n",
       " ['(Charcoal', 'Ink,'],\n",
       " ['(Silver', 'Gray,'],\n",
       " ['(Silver', 'Ray,'],\n",
       " ['(Jade', 'Fog,'],\n",
       " ['(Bahama', 'Blue,'],\n",
       " ['(Gray', 'Mirror,'],\n",
       " ['(Blue', 'Void,']]"
      ]
     },
     "execution_count": 67,
     "metadata": {},
     "output_type": "execute_result"
    }
   ],
   "source": [
    "color_name"
   ]
  },
  {
   "cell_type": "code",
   "execution_count": 68,
   "id": "d9602528",
   "metadata": {},
   "outputs": [],
   "source": [
    "Brand=[]"
   ]
  },
  {
   "cell_type": "code",
   "execution_count": 18,
   "id": "dac2e089",
   "metadata": {},
   "outputs": [],
   "source": [
    "#for i in brand_name[0:10]:\n",
    "   # driver.get(i)\n",
    "   # time.sleep(5)\n",
    "try:\n",
    "    brand=driver.find_elements(By.XPATH,'//div[@class=\"_4rR01T\"]')\n",
    "    Brand.append(brand)\n",
    "except NoSuchElementException:\n",
    "    Brand.append('NA')\n"
   ]
  },
  {
   "cell_type": "code",
   "execution_count": 19,
   "id": "050d2506",
   "metadata": {},
   "outputs": [
    {
     "data": {
      "text/plain": [
       "1"
      ]
     },
     "execution_count": 19,
     "metadata": {},
     "output_type": "execute_result"
    }
   ],
   "source": [
    "len(Brand)"
   ]
  },
  {
   "cell_type": "code",
   "execution_count": 20,
   "id": "57dfbbfc",
   "metadata": {},
   "outputs": [
    {
     "data": {
      "text/plain": [
       "[[<selenium.webdriver.remote.webelement.WebElement (session=\"038bfe9b004d8a3179d30c48bab53d06\", element=\"acfbf219-f0ea-4bf1-9b16-374f7e7db55c\")>,\n",
       "  <selenium.webdriver.remote.webelement.WebElement (session=\"038bfe9b004d8a3179d30c48bab53d06\", element=\"671cc7c8-8812-4bcd-b2b0-a24210be834a\")>,\n",
       "  <selenium.webdriver.remote.webelement.WebElement (session=\"038bfe9b004d8a3179d30c48bab53d06\", element=\"2bc87df3-22c1-4f37-9a3b-c381baf4ae3a\")>,\n",
       "  <selenium.webdriver.remote.webelement.WebElement (session=\"038bfe9b004d8a3179d30c48bab53d06\", element=\"14a265e9-4580-4b19-9f8c-1a1cc9c89804\")>,\n",
       "  <selenium.webdriver.remote.webelement.WebElement (session=\"038bfe9b004d8a3179d30c48bab53d06\", element=\"ae8047a0-9e94-459e-b203-500b54d69edd\")>,\n",
       "  <selenium.webdriver.remote.webelement.WebElement (session=\"038bfe9b004d8a3179d30c48bab53d06\", element=\"f2f91c2f-5361-4a98-8fe2-c9615fb57f47\")>,\n",
       "  <selenium.webdriver.remote.webelement.WebElement (session=\"038bfe9b004d8a3179d30c48bab53d06\", element=\"93c2228d-9b38-47a3-b129-11b46745ef34\")>,\n",
       "  <selenium.webdriver.remote.webelement.WebElement (session=\"038bfe9b004d8a3179d30c48bab53d06\", element=\"8fc4c0a1-8ebe-4817-8cba-95eaabf3495f\")>,\n",
       "  <selenium.webdriver.remote.webelement.WebElement (session=\"038bfe9b004d8a3179d30c48bab53d06\", element=\"7ae0d956-5ac7-42f4-9b53-268a20af7e05\")>,\n",
       "  <selenium.webdriver.remote.webelement.WebElement (session=\"038bfe9b004d8a3179d30c48bab53d06\", element=\"0fa625d3-fd35-411c-9e24-fdfb74a063ab\")>,\n",
       "  <selenium.webdriver.remote.webelement.WebElement (session=\"038bfe9b004d8a3179d30c48bab53d06\", element=\"a4a7e789-ae56-4bc1-9b0c-545fb2ba06ee\")>,\n",
       "  <selenium.webdriver.remote.webelement.WebElement (session=\"038bfe9b004d8a3179d30c48bab53d06\", element=\"adae9481-f56a-4776-9fc7-bbd3c4b99b19\")>,\n",
       "  <selenium.webdriver.remote.webelement.WebElement (session=\"038bfe9b004d8a3179d30c48bab53d06\", element=\"630dad5e-94ac-4e02-a6e8-7e95404d656b\")>,\n",
       "  <selenium.webdriver.remote.webelement.WebElement (session=\"038bfe9b004d8a3179d30c48bab53d06\", element=\"5b8ad2db-e8fd-4916-b70d-25b1e73c0d29\")>,\n",
       "  <selenium.webdriver.remote.webelement.WebElement (session=\"038bfe9b004d8a3179d30c48bab53d06\", element=\"56817dea-5038-4f49-b99c-e76dba2e7754\")>,\n",
       "  <selenium.webdriver.remote.webelement.WebElement (session=\"038bfe9b004d8a3179d30c48bab53d06\", element=\"344f7543-1c2e-41e9-9fd9-1bdf0c27a94b\")>,\n",
       "  <selenium.webdriver.remote.webelement.WebElement (session=\"038bfe9b004d8a3179d30c48bab53d06\", element=\"d5697b5d-bda6-454d-85b4-969dea7b6554\")>,\n",
       "  <selenium.webdriver.remote.webelement.WebElement (session=\"038bfe9b004d8a3179d30c48bab53d06\", element=\"9ad4439a-042e-4ce8-ade5-192ced22452d\")>,\n",
       "  <selenium.webdriver.remote.webelement.WebElement (session=\"038bfe9b004d8a3179d30c48bab53d06\", element=\"b17282e6-429f-440a-ad0a-30dff047668f\")>,\n",
       "  <selenium.webdriver.remote.webelement.WebElement (session=\"038bfe9b004d8a3179d30c48bab53d06\", element=\"13804fd3-a0de-4817-8fbb-0109f261db2e\")>,\n",
       "  <selenium.webdriver.remote.webelement.WebElement (session=\"038bfe9b004d8a3179d30c48bab53d06\", element=\"f6238863-1a85-4a7f-b7bf-feb77a0bd3fd\")>,\n",
       "  <selenium.webdriver.remote.webelement.WebElement (session=\"038bfe9b004d8a3179d30c48bab53d06\", element=\"bcc72f3d-7e70-45d9-b801-e793856c416f\")>,\n",
       "  <selenium.webdriver.remote.webelement.WebElement (session=\"038bfe9b004d8a3179d30c48bab53d06\", element=\"733b7bea-e966-406c-a59d-7c94f1468aa4\")>,\n",
       "  <selenium.webdriver.remote.webelement.WebElement (session=\"038bfe9b004d8a3179d30c48bab53d06\", element=\"96299154-22d2-44e3-910b-cfdc455e7aff\")>]]"
      ]
     },
     "execution_count": 20,
     "metadata": {},
     "output_type": "execute_result"
    }
   ],
   "source": [
    "Brand"
   ]
  },
  {
   "cell_type": "code",
   "execution_count": 34,
   "id": "e30f6667",
   "metadata": {},
   "outputs": [],
   "source": [
    "ram=[]"
   ]
  },
  {
   "cell_type": "code",
   "execution_count": null,
   "id": "7d1be25c",
   "metadata": {
    "scrolled": true
   },
   "outputs": [],
   "source": [
    "ram=driver.find_elements(By.XPATH,'//li[@class=\"rgWa7D\"][1]')\n",
    "for i in ram:\n",
    "    ram.append(i.text.split('|')[0])"
   ]
  },
  {
   "cell_type": "code",
   "execution_count": 36,
   "id": "c04744db",
   "metadata": {},
   "outputs": [
    {
     "data": {
      "text/plain": [
       "48"
      ]
     },
     "execution_count": 36,
     "metadata": {},
     "output_type": "execute_result"
    }
   ],
   "source": [
    "len(ram)"
   ]
  },
  {
   "cell_type": "code",
   "execution_count": null,
   "id": "df603acb",
   "metadata": {},
   "outputs": [],
   "source": [
    "ram"
   ]
  },
  {
   "cell_type": "code",
   "execution_count": 70,
   "id": "97a10c2e",
   "metadata": {},
   "outputs": [],
   "source": [
    "rom=[]"
   ]
  },
  {
   "cell_type": "code",
   "execution_count": 71,
   "id": "74e9c14d",
   "metadata": {
    "scrolled": true
   },
   "outputs": [
    {
     "ename": "AttributeError",
     "evalue": "'str' object has no attribute 'text'",
     "output_type": "error",
     "traceback": [
      "\u001b[1;31m---------------------------------------------------------------------------\u001b[0m",
      "\u001b[1;31mAttributeError\u001b[0m                            Traceback (most recent call last)",
      "Input \u001b[1;32mIn [71]\u001b[0m, in \u001b[0;36m<cell line: 2>\u001b[1;34m()\u001b[0m\n\u001b[0;32m      1\u001b[0m rom\u001b[38;5;241m=\u001b[39mdriver\u001b[38;5;241m.\u001b[39mfind_elements(By\u001b[38;5;241m.\u001b[39mXPATH,\u001b[38;5;124m'\u001b[39m\u001b[38;5;124m//li[@class=\u001b[39m\u001b[38;5;124m\"\u001b[39m\u001b[38;5;124mrgWa7D\u001b[39m\u001b[38;5;124m\"\u001b[39m\u001b[38;5;124m][1]\u001b[39m\u001b[38;5;124m'\u001b[39m)\n\u001b[0;32m      2\u001b[0m \u001b[38;5;28;01mfor\u001b[39;00m i \u001b[38;5;129;01min\u001b[39;00m rom:\n\u001b[1;32m----> 3\u001b[0m     rom\u001b[38;5;241m.\u001b[39mappend(\u001b[43mi\u001b[49m\u001b[38;5;241;43m.\u001b[39;49m\u001b[43mtext\u001b[49m\u001b[38;5;241m.\u001b[39msplit(\u001b[38;5;124m'\u001b[39m\u001b[38;5;124m|\u001b[39m\u001b[38;5;124m'\u001b[39m)[\u001b[38;5;241m1\u001b[39m])\n",
      "\u001b[1;31mAttributeError\u001b[0m: 'str' object has no attribute 'text'"
     ]
    }
   ],
   "source": [
    "rom=driver.find_elements(By.XPATH,'//li[@class=\"rgWa7D\"][1]')\n",
    "for i in rom:\n",
    "    rom.append(i.text.split('|')[1])"
   ]
  },
  {
   "cell_type": "code",
   "execution_count": 39,
   "id": "af84de9a",
   "metadata": {},
   "outputs": [
    {
     "data": {
      "text/plain": [
       "48"
      ]
     },
     "execution_count": 39,
     "metadata": {},
     "output_type": "execute_result"
    }
   ],
   "source": [
    "len(rom)"
   ]
  },
  {
   "cell_type": "code",
   "execution_count": 41,
   "id": "ce76c675",
   "metadata": {},
   "outputs": [
    {
     "data": {
      "text/plain": [
       "[<selenium.webdriver.remote.webelement.WebElement (session=\"0e017577cf86481c71116fd82e6bb1bb\", element=\"73961dd0-d11d-4664-ab93-861eaf6d4d17\")>,\n",
       " <selenium.webdriver.remote.webelement.WebElement (session=\"0e017577cf86481c71116fd82e6bb1bb\", element=\"273ba9c3-88a5-427b-bf86-b5ba16b9a8bc\")>,\n",
       " <selenium.webdriver.remote.webelement.WebElement (session=\"0e017577cf86481c71116fd82e6bb1bb\", element=\"641f0d2f-25cd-401e-8e9a-89360e09f719\")>,\n",
       " <selenium.webdriver.remote.webelement.WebElement (session=\"0e017577cf86481c71116fd82e6bb1bb\", element=\"1581260b-a803-4304-8bec-e7954a71fbac\")>,\n",
       " <selenium.webdriver.remote.webelement.WebElement (session=\"0e017577cf86481c71116fd82e6bb1bb\", element=\"8e99871c-45d2-4a2d-bc7e-aa6c7fd06e67\")>,\n",
       " <selenium.webdriver.remote.webelement.WebElement (session=\"0e017577cf86481c71116fd82e6bb1bb\", element=\"6aedfb6b-570f-41e9-a22a-f9d47d1aae63\")>,\n",
       " <selenium.webdriver.remote.webelement.WebElement (session=\"0e017577cf86481c71116fd82e6bb1bb\", element=\"8a51b069-e5a3-4346-82e9-eb4a94febe60\")>,\n",
       " <selenium.webdriver.remote.webelement.WebElement (session=\"0e017577cf86481c71116fd82e6bb1bb\", element=\"72ea501b-6703-43a8-b431-8c21637d9391\")>,\n",
       " <selenium.webdriver.remote.webelement.WebElement (session=\"0e017577cf86481c71116fd82e6bb1bb\", element=\"a11f54c6-b6d6-42b1-a38c-162162f36561\")>,\n",
       " <selenium.webdriver.remote.webelement.WebElement (session=\"0e017577cf86481c71116fd82e6bb1bb\", element=\"b3278be6-bf4c-4754-a7c7-9ad93f2ea2b0\")>,\n",
       " <selenium.webdriver.remote.webelement.WebElement (session=\"0e017577cf86481c71116fd82e6bb1bb\", element=\"2c9c8050-2b78-4129-9bdf-5792dd9612ff\")>,\n",
       " <selenium.webdriver.remote.webelement.WebElement (session=\"0e017577cf86481c71116fd82e6bb1bb\", element=\"c8231583-fbc1-4cf8-92e2-85fc105224e3\")>,\n",
       " <selenium.webdriver.remote.webelement.WebElement (session=\"0e017577cf86481c71116fd82e6bb1bb\", element=\"d7a73d17-a030-4769-950a-8446fd18c467\")>,\n",
       " <selenium.webdriver.remote.webelement.WebElement (session=\"0e017577cf86481c71116fd82e6bb1bb\", element=\"a7fcb894-8300-4440-bdc4-98e84d8dcb97\")>,\n",
       " <selenium.webdriver.remote.webelement.WebElement (session=\"0e017577cf86481c71116fd82e6bb1bb\", element=\"36d6004c-b294-49a9-adaa-48522cd959a9\")>,\n",
       " <selenium.webdriver.remote.webelement.WebElement (session=\"0e017577cf86481c71116fd82e6bb1bb\", element=\"d58ef57e-54aa-45a0-9987-ecce3d483561\")>,\n",
       " <selenium.webdriver.remote.webelement.WebElement (session=\"0e017577cf86481c71116fd82e6bb1bb\", element=\"7693ee63-9f48-41fe-b4f3-f62fe66427b0\")>,\n",
       " <selenium.webdriver.remote.webelement.WebElement (session=\"0e017577cf86481c71116fd82e6bb1bb\", element=\"d5b8617b-e836-4b94-8bea-f41d3592be9d\")>,\n",
       " <selenium.webdriver.remote.webelement.WebElement (session=\"0e017577cf86481c71116fd82e6bb1bb\", element=\"e2196c3d-91ed-4c5b-ad70-a9fb12f55084\")>,\n",
       " <selenium.webdriver.remote.webelement.WebElement (session=\"0e017577cf86481c71116fd82e6bb1bb\", element=\"4c015894-5009-46c7-9c25-39f5cd07d055\")>,\n",
       " <selenium.webdriver.remote.webelement.WebElement (session=\"0e017577cf86481c71116fd82e6bb1bb\", element=\"0049e325-f076-445e-8643-0417f3e76653\")>,\n",
       " <selenium.webdriver.remote.webelement.WebElement (session=\"0e017577cf86481c71116fd82e6bb1bb\", element=\"1984863c-86fb-49dc-a6c5-f406f620efb2\")>,\n",
       " <selenium.webdriver.remote.webelement.WebElement (session=\"0e017577cf86481c71116fd82e6bb1bb\", element=\"19451bb2-4357-4364-886c-ef88dedcafb9\")>,\n",
       " <selenium.webdriver.remote.webelement.WebElement (session=\"0e017577cf86481c71116fd82e6bb1bb\", element=\"4e7867c7-2fbf-45ce-ba54-f4e9a4e01653\")>,\n",
       " ' 128 GB ROM',\n",
       " ' 128 GB ROM',\n",
       " ' 128 GB ROM',\n",
       " ' 128 GB ROM',\n",
       " ' 128 GB ROM',\n",
       " ' 128 GB ROM',\n",
       " ' 128 GB ROM',\n",
       " ' 128 GB ROM',\n",
       " ' 256 GB ROM',\n",
       " ' 256 GB ROM',\n",
       " ' 128 GB ROM',\n",
       " ' 256 GB ROM',\n",
       " ' 128 GB ROM',\n",
       " ' 128 GB ROM',\n",
       " ' 256 GB ROM',\n",
       " ' 128 GB ROM',\n",
       " ' 128 GB ROM',\n",
       " ' 128 GB ROM',\n",
       " ' 128 GB ROM',\n",
       " ' 128 GB ROM',\n",
       " ' 256 GB ROM',\n",
       " ' 128 GB ROM',\n",
       " ' 128 GB ROM',\n",
       " ' 128 GB ROM']"
      ]
     },
     "execution_count": 41,
     "metadata": {},
     "output_type": "execute_result"
    }
   ],
   "source": [
    "rom"
   ]
  },
  {
   "cell_type": "code",
   "execution_count": 43,
   "id": "013ae6a0",
   "metadata": {},
   "outputs": [],
   "source": [
    "pcam=[]"
   ]
  },
  {
   "cell_type": "code",
   "execution_count": 44,
   "id": "e3ec54da",
   "metadata": {
    "scrolled": true
   },
   "outputs": [
    {
     "ename": "AttributeError",
     "evalue": "'str' object has no attribute 'text'",
     "output_type": "error",
     "traceback": [
      "\u001b[1;31m---------------------------------------------------------------------------\u001b[0m",
      "\u001b[1;31mAttributeError\u001b[0m                            Traceback (most recent call last)",
      "Input \u001b[1;32mIn [44]\u001b[0m, in \u001b[0;36m<cell line: 2>\u001b[1;34m()\u001b[0m\n\u001b[0;32m      1\u001b[0m pcam\u001b[38;5;241m=\u001b[39mdriver\u001b[38;5;241m.\u001b[39mfind_elements(By\u001b[38;5;241m.\u001b[39mXPATH,\u001b[38;5;124m'\u001b[39m\u001b[38;5;124m//li[@class=\u001b[39m\u001b[38;5;124m\"\u001b[39m\u001b[38;5;124mrgWa7D\u001b[39m\u001b[38;5;124m\"\u001b[39m\u001b[38;5;124m][3]\u001b[39m\u001b[38;5;124m'\u001b[39m)\n\u001b[0;32m      2\u001b[0m \u001b[38;5;28;01mfor\u001b[39;00m i \u001b[38;5;129;01min\u001b[39;00m pcam:\n\u001b[1;32m----> 3\u001b[0m     pcam\u001b[38;5;241m.\u001b[39mappend(\u001b[43mi\u001b[49m\u001b[38;5;241;43m.\u001b[39;49m\u001b[43mtext\u001b[49m)\n",
      "\u001b[1;31mAttributeError\u001b[0m: 'str' object has no attribute 'text'"
     ]
    }
   ],
   "source": [
    "pcam=driver.find_elements(By.XPATH,'//li[@class=\"rgWa7D\"][3]')\n",
    "for i in pcam:\n",
    "    pcam.append(i.text)"
   ]
  },
  {
   "cell_type": "code",
   "execution_count": 45,
   "id": "e578c51b",
   "metadata": {},
   "outputs": [
    {
     "data": {
      "text/plain": [
       "48"
      ]
     },
     "execution_count": 45,
     "metadata": {},
     "output_type": "execute_result"
    }
   ],
   "source": [
    "len(pcam)"
   ]
  },
  {
   "cell_type": "code",
   "execution_count": 46,
   "id": "df9ffc12",
   "metadata": {},
   "outputs": [
    {
     "data": {
      "text/plain": [
       "[<selenium.webdriver.remote.webelement.WebElement (session=\"0e017577cf86481c71116fd82e6bb1bb\", element=\"3df3a673-2b2d-43f6-9207-2612b32a0be8\")>,\n",
       " <selenium.webdriver.remote.webelement.WebElement (session=\"0e017577cf86481c71116fd82e6bb1bb\", element=\"713d8160-3beb-4993-9c0c-d67aa30e1360\")>,\n",
       " <selenium.webdriver.remote.webelement.WebElement (session=\"0e017577cf86481c71116fd82e6bb1bb\", element=\"e556ee3c-c278-4207-b9de-e2c190b10680\")>,\n",
       " <selenium.webdriver.remote.webelement.WebElement (session=\"0e017577cf86481c71116fd82e6bb1bb\", element=\"ab3e9c29-ea3b-405d-8a9f-d68697ce2ac9\")>,\n",
       " <selenium.webdriver.remote.webelement.WebElement (session=\"0e017577cf86481c71116fd82e6bb1bb\", element=\"9be2ced8-bed1-44e5-a548-7ace99606ffe\")>,\n",
       " <selenium.webdriver.remote.webelement.WebElement (session=\"0e017577cf86481c71116fd82e6bb1bb\", element=\"5ea77d82-47a3-4ae6-9d32-69a9827caee2\")>,\n",
       " <selenium.webdriver.remote.webelement.WebElement (session=\"0e017577cf86481c71116fd82e6bb1bb\", element=\"7075e516-43b8-4f7f-80bd-305ed0fa5ded\")>,\n",
       " <selenium.webdriver.remote.webelement.WebElement (session=\"0e017577cf86481c71116fd82e6bb1bb\", element=\"70a73513-e02d-4a8c-af12-f999a620b7ef\")>,\n",
       " <selenium.webdriver.remote.webelement.WebElement (session=\"0e017577cf86481c71116fd82e6bb1bb\", element=\"563b4293-7370-4179-9b70-9729b359737c\")>,\n",
       " <selenium.webdriver.remote.webelement.WebElement (session=\"0e017577cf86481c71116fd82e6bb1bb\", element=\"53ac5722-7651-4ff4-ba0a-ecdc67a39acc\")>,\n",
       " <selenium.webdriver.remote.webelement.WebElement (session=\"0e017577cf86481c71116fd82e6bb1bb\", element=\"39202d4b-a56b-4b94-8206-8e9f8a3e050d\")>,\n",
       " <selenium.webdriver.remote.webelement.WebElement (session=\"0e017577cf86481c71116fd82e6bb1bb\", element=\"c4dbb796-c7a8-4c2a-9f0a-1b8eb207fa41\")>,\n",
       " <selenium.webdriver.remote.webelement.WebElement (session=\"0e017577cf86481c71116fd82e6bb1bb\", element=\"cc8d19cd-705b-421f-a4d2-950aaa539921\")>,\n",
       " <selenium.webdriver.remote.webelement.WebElement (session=\"0e017577cf86481c71116fd82e6bb1bb\", element=\"ba637946-a56f-421d-9159-6b1f5545cbe9\")>,\n",
       " <selenium.webdriver.remote.webelement.WebElement (session=\"0e017577cf86481c71116fd82e6bb1bb\", element=\"e22486a9-27cb-493d-8cf0-da192299f5e7\")>,\n",
       " <selenium.webdriver.remote.webelement.WebElement (session=\"0e017577cf86481c71116fd82e6bb1bb\", element=\"f0fc4eda-47c4-4abc-9753-b7b39c2b34d3\")>,\n",
       " <selenium.webdriver.remote.webelement.WebElement (session=\"0e017577cf86481c71116fd82e6bb1bb\", element=\"334fbab8-f3f6-4595-8abc-8fa2597b91c5\")>,\n",
       " <selenium.webdriver.remote.webelement.WebElement (session=\"0e017577cf86481c71116fd82e6bb1bb\", element=\"f57adaff-82b6-4ed3-b5bf-dcd4da99d9d1\")>,\n",
       " <selenium.webdriver.remote.webelement.WebElement (session=\"0e017577cf86481c71116fd82e6bb1bb\", element=\"23853144-d12f-4177-b494-f415b0c86e15\")>,\n",
       " <selenium.webdriver.remote.webelement.WebElement (session=\"0e017577cf86481c71116fd82e6bb1bb\", element=\"8c8f8648-5715-464b-847e-9756d421eebc\")>,\n",
       " <selenium.webdriver.remote.webelement.WebElement (session=\"0e017577cf86481c71116fd82e6bb1bb\", element=\"4e1b7b37-04b5-417e-9b2d-941e619b5ac4\")>,\n",
       " <selenium.webdriver.remote.webelement.WebElement (session=\"0e017577cf86481c71116fd82e6bb1bb\", element=\"a78f37ca-611f-4ebd-b704-e53765b52a6b\")>,\n",
       " <selenium.webdriver.remote.webelement.WebElement (session=\"0e017577cf86481c71116fd82e6bb1bb\", element=\"9a260b9d-6405-4cf6-8a73-68b1fcad1605\")>,\n",
       " <selenium.webdriver.remote.webelement.WebElement (session=\"0e017577cf86481c71116fd82e6bb1bb\", element=\"dcf129a0-9d55-416e-8bf7-cd7e7cfc282e\")>,\n",
       " '64MP Rear Camera',\n",
       " '64MP Rear Camera',\n",
       " '64MP Rear Camera',\n",
       " '64MP Rear Camera',\n",
       " '50MP Rear Camera',\n",
       " '50MP Rear Camera',\n",
       " '64MP Rear Camera',\n",
       " '64MP Rear Camera',\n",
       " '64MP Rear Camera',\n",
       " '64MP Rear Camera',\n",
       " '50MP Rear Camera',\n",
       " '50MP Rear Camera',\n",
       " '50MP Rear Camera',\n",
       " '50MP Rear Camera',\n",
       " '50MP Rear Camera',\n",
       " '50MP Rear Camera',\n",
       " '64MP Rear Camera',\n",
       " '64MP Rear Camera',\n",
       " '64MP Rear Camera',\n",
       " '64MP Rear Camera',\n",
       " '50MP Rear Camera',\n",
       " '64MP Rear Camera',\n",
       " '64MP Rear Camera',\n",
       " '64MP Rear Camera']"
      ]
     },
     "execution_count": 46,
     "metadata": {},
     "output_type": "execute_result"
    }
   ],
   "source": [
    "pcam"
   ]
  },
  {
   "cell_type": "code",
   "execution_count": 47,
   "id": "6060ab46",
   "metadata": {},
   "outputs": [],
   "source": [
    "disp=[]"
   ]
  },
  {
   "cell_type": "code",
   "execution_count": 48,
   "id": "5eeeff7c",
   "metadata": {
    "scrolled": true
   },
   "outputs": [
    {
     "ename": "AttributeError",
     "evalue": "'str' object has no attribute 'text'",
     "output_type": "error",
     "traceback": [
      "\u001b[1;31m---------------------------------------------------------------------------\u001b[0m",
      "\u001b[1;31mAttributeError\u001b[0m                            Traceback (most recent call last)",
      "Input \u001b[1;32mIn [48]\u001b[0m, in \u001b[0;36m<cell line: 2>\u001b[1;34m()\u001b[0m\n\u001b[0;32m      1\u001b[0m disp\u001b[38;5;241m=\u001b[39mdriver\u001b[38;5;241m.\u001b[39mfind_elements(By\u001b[38;5;241m.\u001b[39mXPATH,\u001b[38;5;124m'\u001b[39m\u001b[38;5;124m//li[@class=\u001b[39m\u001b[38;5;124m\"\u001b[39m\u001b[38;5;124mrgWa7D\u001b[39m\u001b[38;5;124m\"\u001b[39m\u001b[38;5;124m][2]\u001b[39m\u001b[38;5;124m'\u001b[39m)\n\u001b[0;32m      2\u001b[0m \u001b[38;5;28;01mfor\u001b[39;00m i \u001b[38;5;129;01min\u001b[39;00m disp:\n\u001b[1;32m----> 3\u001b[0m     disp\u001b[38;5;241m.\u001b[39mappend(\u001b[43mi\u001b[49m\u001b[38;5;241;43m.\u001b[39;49m\u001b[43mtext\u001b[49m)\n",
      "\u001b[1;31mAttributeError\u001b[0m: 'str' object has no attribute 'text'"
     ]
    }
   ],
   "source": [
    "disp=driver.find_elements(By.XPATH,'//li[@class=\"rgWa7D\"][2]')\n",
    "for i in disp:\n",
    "    disp.append(i.text)"
   ]
  },
  {
   "cell_type": "code",
   "execution_count": 49,
   "id": "f5cf9339",
   "metadata": {},
   "outputs": [
    {
     "data": {
      "text/plain": [
       "[<selenium.webdriver.remote.webelement.WebElement (session=\"0e017577cf86481c71116fd82e6bb1bb\", element=\"fe8287ab-2a1d-4525-82bd-40ccbe42ec9f\")>,\n",
       " <selenium.webdriver.remote.webelement.WebElement (session=\"0e017577cf86481c71116fd82e6bb1bb\", element=\"ad68e67e-bc47-48e2-a6a9-d28d7204740c\")>,\n",
       " <selenium.webdriver.remote.webelement.WebElement (session=\"0e017577cf86481c71116fd82e6bb1bb\", element=\"cc36ac1b-90f5-4195-8d99-18a6916373cb\")>,\n",
       " <selenium.webdriver.remote.webelement.WebElement (session=\"0e017577cf86481c71116fd82e6bb1bb\", element=\"10ec6921-a55c-4ce2-aec6-1294ed1710aa\")>,\n",
       " <selenium.webdriver.remote.webelement.WebElement (session=\"0e017577cf86481c71116fd82e6bb1bb\", element=\"3a07da5e-0fc4-4094-9a67-aadc2b6c5e04\")>,\n",
       " <selenium.webdriver.remote.webelement.WebElement (session=\"0e017577cf86481c71116fd82e6bb1bb\", element=\"ed1143f8-a2d0-40fc-89b8-5d6b48a5b614\")>,\n",
       " <selenium.webdriver.remote.webelement.WebElement (session=\"0e017577cf86481c71116fd82e6bb1bb\", element=\"8656a426-28d4-4c53-b95b-bd8f9ab4bad1\")>,\n",
       " <selenium.webdriver.remote.webelement.WebElement (session=\"0e017577cf86481c71116fd82e6bb1bb\", element=\"bd9cce7c-613f-4ca5-a5a5-c86ca98c2339\")>,\n",
       " <selenium.webdriver.remote.webelement.WebElement (session=\"0e017577cf86481c71116fd82e6bb1bb\", element=\"1f3f36da-5727-42a2-b328-717625ea2c64\")>,\n",
       " <selenium.webdriver.remote.webelement.WebElement (session=\"0e017577cf86481c71116fd82e6bb1bb\", element=\"d78ff807-c937-42b9-bf48-73e5c29b93b5\")>,\n",
       " <selenium.webdriver.remote.webelement.WebElement (session=\"0e017577cf86481c71116fd82e6bb1bb\", element=\"7811083d-2de1-4ed1-8ab1-05854eefb52e\")>,\n",
       " <selenium.webdriver.remote.webelement.WebElement (session=\"0e017577cf86481c71116fd82e6bb1bb\", element=\"06f7e1b4-97fe-4494-bada-4f37eaeddbae\")>,\n",
       " <selenium.webdriver.remote.webelement.WebElement (session=\"0e017577cf86481c71116fd82e6bb1bb\", element=\"54af7df5-9e1c-4d85-916e-f296149d5f69\")>,\n",
       " <selenium.webdriver.remote.webelement.WebElement (session=\"0e017577cf86481c71116fd82e6bb1bb\", element=\"bf10aabc-a79d-4b5f-be92-7eaed4885af9\")>,\n",
       " <selenium.webdriver.remote.webelement.WebElement (session=\"0e017577cf86481c71116fd82e6bb1bb\", element=\"04d11f63-e289-449d-a341-e142885983e3\")>,\n",
       " <selenium.webdriver.remote.webelement.WebElement (session=\"0e017577cf86481c71116fd82e6bb1bb\", element=\"a96c32b1-e70f-4ebd-94d3-259da3f1e363\")>,\n",
       " <selenium.webdriver.remote.webelement.WebElement (session=\"0e017577cf86481c71116fd82e6bb1bb\", element=\"e8dcd233-e09c-471b-bd56-cca13a6f18e8\")>,\n",
       " <selenium.webdriver.remote.webelement.WebElement (session=\"0e017577cf86481c71116fd82e6bb1bb\", element=\"51e73cbd-7aa2-4274-b685-5f6572e072f7\")>,\n",
       " <selenium.webdriver.remote.webelement.WebElement (session=\"0e017577cf86481c71116fd82e6bb1bb\", element=\"e9a8fcc4-a5fa-4db5-a59f-b8644632396e\")>,\n",
       " <selenium.webdriver.remote.webelement.WebElement (session=\"0e017577cf86481c71116fd82e6bb1bb\", element=\"2733cac0-7bb8-49a2-846c-769ea01434cc\")>,\n",
       " <selenium.webdriver.remote.webelement.WebElement (session=\"0e017577cf86481c71116fd82e6bb1bb\", element=\"ec9ff9cf-f344-4923-9288-8c9f9b93c8c4\")>,\n",
       " <selenium.webdriver.remote.webelement.WebElement (session=\"0e017577cf86481c71116fd82e6bb1bb\", element=\"b88f6c3a-f6a5-4adb-8480-8778c588e054\")>,\n",
       " <selenium.webdriver.remote.webelement.WebElement (session=\"0e017577cf86481c71116fd82e6bb1bb\", element=\"0e37ac63-c228-4b6c-a50e-6f5a3db25dd7\")>,\n",
       " <selenium.webdriver.remote.webelement.WebElement (session=\"0e017577cf86481c71116fd82e6bb1bb\", element=\"e8c7f996-d768-482e-9d08-f8091bfcf2e3\")>,\n",
       " '16.74 cm (6.59 inch) Display',\n",
       " '16.74 cm (6.59 inch) Display',\n",
       " '16.33 cm (6.43 inch) Display',\n",
       " '16.74 cm (6.59 inch) Display',\n",
       " '17.02 cm (6.7 inch) Display',\n",
       " '16.33 cm (6.43 inch) Display',\n",
       " '16.33 cm (6.43 inch) Display',\n",
       " '16.74 cm (6.59 inch) Display',\n",
       " '16.33 cm (6.43 inch) Display',\n",
       " '16.33 cm (6.43 inch) Display',\n",
       " '17.02 cm (6.7 inch) Display',\n",
       " '17.02 cm (6.7 inch) Display',\n",
       " '16.33 cm (6.43 inch) Display',\n",
       " '16.33 cm (6.43 inch) Display',\n",
       " '16.33 cm (6.43 inch) Display',\n",
       " '16.33 cm (6.43 inch) Display',\n",
       " '16.33 cm (6.43 inch) Display',\n",
       " '16.33 cm (6.43 inch) Display',\n",
       " '16.33 cm (6.43 inch) Display',\n",
       " '16.33 cm (6.43 inch) Display',\n",
       " '17.02 cm (6.7 inch) Display',\n",
       " '16.33 cm (6.43 inch) Display',\n",
       " '16.33 cm (6.43 inch) Display',\n",
       " '16.33 cm (6.43 inch) Display']"
      ]
     },
     "execution_count": 49,
     "metadata": {},
     "output_type": "execute_result"
    }
   ],
   "source": [
    "disp"
   ]
  },
  {
   "cell_type": "code",
   "execution_count": 50,
   "id": "4b3d4b8b",
   "metadata": {},
   "outputs": [],
   "source": [
    "batt=[]"
   ]
  },
  {
   "cell_type": "code",
   "execution_count": 51,
   "id": "14bcff25",
   "metadata": {
    "scrolled": true
   },
   "outputs": [],
   "source": [
    "bat=driver.find_elements(By.XPATH,'//li[@class=\"rgWa7D\"][4]')\n",
    "for i in bat:\n",
    "    batt.append(i.text)"
   ]
  },
  {
   "cell_type": "code",
   "execution_count": 52,
   "id": "94cffdcf",
   "metadata": {},
   "outputs": [
    {
     "data": {
      "text/plain": [
       "24"
      ]
     },
     "execution_count": 52,
     "metadata": {},
     "output_type": "execute_result"
    }
   ],
   "source": [
    "len(batt)"
   ]
  },
  {
   "cell_type": "code",
   "execution_count": 53,
   "id": "67789e0b",
   "metadata": {},
   "outputs": [
    {
     "data": {
      "text/plain": [
       "['5000 mAh Battery',\n",
       " '5000 mAh Battery',\n",
       " '4500 mAh Battery',\n",
       " '5000 mAh Battery',\n",
       " '4500 mAh Battery',\n",
       " '4500 mAh Battery',\n",
       " '4500 mAh Battery',\n",
       " '5000 mAh Battery',\n",
       " '4500 mAh Battery',\n",
       " '4500 mAh Battery',\n",
       " '4500 mAh Battery',\n",
       " '4500 mAh Battery',\n",
       " '4500 mAh Battery',\n",
       " '4500 mAh Battery',\n",
       " '4500 mAh Battery',\n",
       " '4500 mAh Battery',\n",
       " '4500 mAh Battery',\n",
       " '4500 mAh Battery',\n",
       " '4500 mAh Battery',\n",
       " '4500 mAh Battery',\n",
       " '4500 mAh Battery',\n",
       " '4500 mAh Battery',\n",
       " '4500 mAh Battery',\n",
       " '4500 mAh Battery']"
      ]
     },
     "execution_count": 53,
     "metadata": {},
     "output_type": "execute_result"
    }
   ],
   "source": [
    "batt"
   ]
  },
  {
   "cell_type": "code",
   "execution_count": 54,
   "id": "3be799a3",
   "metadata": {},
   "outputs": [],
   "source": [
    "product_url=[]"
   ]
  },
  {
   "cell_type": "code",
   "execution_count": 55,
   "id": "aef10234",
   "metadata": {},
   "outputs": [],
   "source": [
    "urls=driver.find_elements(By.XPATH,'//a[@class=\"_1fQZEK\"]')\n",
    "for i in urls:\n",
    "    product_url.append(i.get_attribute(\"href\"))\n"
   ]
  },
  {
   "cell_type": "code",
   "execution_count": 56,
   "id": "5c23e3b7",
   "metadata": {},
   "outputs": [
    {
     "data": {
      "text/plain": [
       "['https://www.flipkart.com/oneplus-nord-ce-2-lite-5g-black-dusk-128-gb/p/itm537fc2aa73747?pid=MOBGHBZHB7YJT5HF&lid=LSTMOBGHBZHB7YJT5HFQ1BZJD&marketplace=FLIPKART&q=Oneplus+Nord&store=tyy%2F4io&srno=s_1_1&otracker=search&otracker1=search&fm=organic&iid=eef78e0a-4359-4027-8be6-424f41c60812.MOBGHBZHB7YJT5HF.SEARCH&ppt=hp&ppn=homepage&ssid=xblz57zfmo0000001678106102813&qH=53863d4d978d5074',\n",
       " 'https://www.flipkart.com/oneplus-nord-ce-2-lite-5g-black-dusk-128-gb/p/itmc56272cceee9d?pid=MOBGHBZHQMNV4KKS&lid=LSTMOBGHBZHQMNV4KKSG5GK5B&marketplace=FLIPKART&q=Oneplus+Nord&store=tyy%2F4io&srno=s_1_2&otracker=search&otracker1=search&fm=organic&iid=eef78e0a-4359-4027-8be6-424f41c60812.MOBGHBZHQMNV4KKS.SEARCH&ppt=hp&ppn=homepage&ssid=xblz57zfmo0000001678106102813&qH=53863d4d978d5074',\n",
       " 'https://www.flipkart.com/oneplus-nord-ce-5g-charcoal-ink-128-gb/p/itmc4c02029d9c90?pid=MOBGDM4D6RNZR2SA&lid=LSTMOBGDM4D6RNZR2SA9QQN6E&marketplace=FLIPKART&q=Oneplus+Nord&store=tyy%2F4io&srno=s_1_3&otracker=search&otracker1=search&fm=organic&iid=eef78e0a-4359-4027-8be6-424f41c60812.MOBGDM4D6RNZR2SA.SEARCH&ppt=hp&ppn=homepage&ssid=xblz57zfmo0000001678106102813&qH=53863d4d978d5074',\n",
       " 'https://www.flipkart.com/oneplus-nord-ce-2-lite-5g-blue-tide-128-gb/p/itm7acae55b999e6?pid=MOBGMFREBAHZQGY9&lid=LSTMOBGMFREBAHZQGY9EG6XMP&marketplace=FLIPKART&q=Oneplus+Nord&store=tyy%2F4io&srno=s_1_4&otracker=search&otracker1=search&fm=organic&iid=eef78e0a-4359-4027-8be6-424f41c60812.MOBGMFREBAHZQGY9.SEARCH&ppt=hp&ppn=homepage&ssid=xblz57zfmo0000001678106102813&qH=53863d4d978d5074',\n",
       " 'https://www.flipkart.com/oneplus-nord-2t-5g-jade-fog-128-gb/p/itm31ac32e308282?pid=MOBGHBZHFAUYKH3U&lid=LSTMOBGHBZHFAUYKH3UZOFHRX&marketplace=FLIPKART&q=Oneplus+Nord&store=tyy%2F4io&srno=s_1_5&otracker=search&otracker1=search&fm=organic&iid=eef78e0a-4359-4027-8be6-424f41c60812.MOBGHBZHFAUYKH3U.SEARCH&ppt=hp&ppn=homepage&ssid=xblz57zfmo0000001678106102813&qH=53863d4d978d5074',\n",
       " 'https://www.flipkart.com/oneplus-nord-2-5g-gray-sierra-128-gb/p/itmd16c63dadf5c5?pid=MOBGDBFFA5EGECHQ&lid=LSTMOBGDBFFA5EGECHQQKVBBR&marketplace=FLIPKART&q=Oneplus+Nord&store=tyy%2F4io&srno=s_1_6&otracker=search&otracker1=search&fm=organic&iid=eef78e0a-4359-4027-8be6-424f41c60812.MOBGDBFFA5EGECHQ.SEARCH&ppt=hp&ppn=homepage&ssid=xblz57zfmo0000001678106102813&qH=53863d4d978d5074',\n",
       " 'https://www.flipkart.com/oneplus-nord-ce-2-5g-gray-mirror-128-gb/p/itm2a9883679c57c?pid=MOBGDBYUNZZ2ZKFM&lid=LSTMOBGDBYUNZZ2ZKFM1ZGX9I&marketplace=FLIPKART&q=Oneplus+Nord&store=tyy%2F4io&srno=s_1_7&otracker=search&otracker1=search&fm=organic&iid=eef78e0a-4359-4027-8be6-424f41c60812.MOBGDBYUNZZ2ZKFM.SEARCH&ppt=hp&ppn=homepage&ssid=xblz57zfmo0000001678106102813&qH=53863d4d978d5074',\n",
       " 'https://www.flipkart.com/oneplus-nord-ce-2-lite-5g-blue-tide-128-gb/p/itm7acae55b999e6?pid=MOBGHBNGY5NDH3GV&lid=LSTMOBGHBNGY5NDH3GVBYKQXG&marketplace=FLIPKART&q=Oneplus+Nord&store=tyy%2F4io&srno=s_1_8&otracker=search&otracker1=search&fm=organic&iid=eef78e0a-4359-4027-8be6-424f41c60812.MOBGHBNGY5NDH3GV.SEARCH&ppt=hp&ppn=homepage&ssid=xblz57zfmo0000001678106102813&qH=53863d4d978d5074',\n",
       " 'https://www.flipkart.com/oneplus-nord-ce-5g-blue-void-256-gb/p/itmc4c02029d9c90?pid=MOBGDTZ8HJVDQZSN&lid=LSTMOBGDTZ8HJVDQZSNMTRPQK&marketplace=FLIPKART&q=Oneplus+Nord&store=tyy%2F4io&srno=s_1_9&otracker=search&otracker1=search&fm=organic&iid=eef78e0a-4359-4027-8be6-424f41c60812.MOBGDTZ8HJVDQZSN.SEARCH&ppt=hp&ppn=homepage&ssid=xblz57zfmo0000001678106102813&qH=53863d4d978d5074',\n",
       " 'https://www.flipkart.com/oneplus-nord-ce-5g-charcoal-ink-256-gb/p/itmc4c02029d9c90?pid=MOBGDM4JGS4AUQRN&lid=LSTMOBGDM4JGS4AUQRNGASBBY&marketplace=FLIPKART&q=Oneplus+Nord&store=tyy%2F4io&srno=s_1_10&otracker=search&otracker1=search&fm=organic&iid=eef78e0a-4359-4027-8be6-424f41c60812.MOBGDM4JGS4AUQRN.SEARCH&ppt=hp&ppn=homepage&ssid=xblz57zfmo0000001678106102813&qH=53863d4d978d5074',\n",
       " 'https://www.flipkart.com/oneplus-nord-2t-5g-gray-shadow-128-gb/p/itmeadf76c1e8943?pid=MOBGHBZH2S8MWQGQ&lid=LSTMOBGHBZH2S8MWQGQ4WO33L&marketplace=FLIPKART&q=Oneplus+Nord&store=tyy%2F4io&srno=s_1_11&otracker=search&otracker1=search&fm=organic&iid=eef78e0a-4359-4027-8be6-424f41c60812.MOBGHBZH2S8MWQGQ.SEARCH&ppt=hp&ppn=homepage&ssid=xblz57zfmo0000001678106102813&qH=53863d4d978d5074',\n",
       " 'https://www.flipkart.com/oneplus-nord-2t-5g-gray-shadow-256-gb/p/itm97eda8b1a1566?pid=MOBGHBZHNPGQGXJY&lid=LSTMOBGHBZHNPGQGXJYNCU1EO&marketplace=FLIPKART&q=Oneplus+Nord&store=tyy%2F4io&srno=s_1_12&otracker=search&otracker1=search&fm=organic&iid=eef78e0a-4359-4027-8be6-424f41c60812.MOBGHBZHNPGQGXJY.SEARCH&ppt=hp&ppn=homepage&ssid=xblz57zfmo0000001678106102813&qH=53863d4d978d5074',\n",
       " 'https://www.flipkart.com/oneplus-nord-ce-2-5g-gray-mirror-128-gb/p/itm33d69f9705a3d?pid=MOBGHHZGCZHJR938&lid=LSTMOBGHHZGCZHJR938SOVHYZ&marketplace=FLIPKART&q=Oneplus+Nord&store=tyy%2F4io&spotlightTagId=TrendingId_tyy%2F4io&srno=s_1_13&otracker=search&otracker1=search&fm=Search&iid=eef78e0a-4359-4027-8be6-424f41c60812.MOBGHHZGCZHJR938.SEARCH&ppt=sp&ppn=sp&ssid=xblz57zfmo0000001678106102813&qH=53863d4d978d5074',\n",
       " 'https://www.flipkart.com/oneplus-nord-2-5g-blue-haze-128-gb/p/itmd16c63dadf5c5?pid=MOBGDBFJXFJPVWKA&lid=LSTMOBGDBFJXFJPVWKA9WW7RD&marketplace=FLIPKART&q=Oneplus+Nord&store=tyy%2F4io&srno=s_1_14&otracker=search&otracker1=search&fm=organic&iid=eef78e0a-4359-4027-8be6-424f41c60812.MOBGDBFJXFJPVWKA.SEARCH&ppt=hp&ppn=homepage&ssid=xblz57zfmo0000001678106102813&qH=53863d4d978d5074',\n",
       " 'https://www.flipkart.com/oneplus-nord-2-5g-blue-haze-256-gb/p/itmd16c63dadf5c5?pid=MOBGDBFHW7596ZTU&lid=LSTMOBGDBFHW7596ZTUTRT8EP&marketplace=FLIPKART&q=Oneplus+Nord&store=tyy%2F4io&srno=s_1_15&otracker=search&otracker1=search&fm=organic&iid=eef78e0a-4359-4027-8be6-424f41c60812.MOBGDBFHW7596ZTU.SEARCH&ppt=hp&ppn=homepage&ssid=xblz57zfmo0000001678106102813&qH=53863d4d978d5074',\n",
       " 'https://www.flipkart.com/oneplus-nord-ce-2-5g-gray-mirror-128-gb/p/itm4644f5bbeb9bb?pid=MOBGKN6FDR7TNMHS&lid=LSTMOBGKN6FDR7TNMHSL5NRW1&marketplace=FLIPKART&q=Oneplus+Nord&store=tyy%2F4io&srno=s_1_16&otracker=search&otracker1=search&fm=organic&iid=eef78e0a-4359-4027-8be6-424f41c60812.MOBGKN6FDR7TNMHS.SEARCH&ppt=hp&ppn=homepage&ssid=xblz57zfmo0000001678106102813&qH=53863d4d978d5074',\n",
       " 'https://www.flipkart.com/oneplus-nord-ce-5g-blue-void-128-gb/p/itmc4c02029d9c90?pid=MOBGDM4QYUZKNAR4&lid=LSTMOBGDM4QYUZKNAR4TI51KT&marketplace=FLIPKART&q=Oneplus+Nord&store=tyy%2F4io&srno=s_1_17&otracker=search&otracker1=search&fm=organic&iid=eef78e0a-4359-4027-8be6-424f41c60812.MOBGDM4QYUZKNAR4.SEARCH&ppt=hp&ppn=homepage&ssid=xblz57zfmo0000001678106102813&qH=53863d4d978d5074',\n",
       " 'https://www.flipkart.com/oneplus-nord-ce-5g-charcoal-ink-128-gb/p/itmc4c02029d9c90?pid=MOBGDM46BMYENNJN&lid=LSTMOBGDM46BMYENNJNXCWS2A&marketplace=FLIPKART&q=Oneplus+Nord&store=tyy%2F4io&srno=s_1_18&otracker=search&otracker1=search&fm=organic&iid=eef78e0a-4359-4027-8be6-424f41c60812.MOBGDM46BMYENNJN.SEARCH&ppt=hp&ppn=homepage&ssid=xblz57zfmo0000001678106102813&qH=53863d4d978d5074',\n",
       " 'https://www.flipkart.com/oneplus-nord-ce-5g-silver-gray-128-gb/p/itmc4c02029d9c90?pid=MOBGDM5FDYUKKJQG&lid=LSTMOBGDM5FDYUKKJQGJNGKMI&marketplace=FLIPKART&q=Oneplus+Nord&store=tyy%2F4io&srno=s_1_19&otracker=search&otracker1=search&fm=organic&iid=eef78e0a-4359-4027-8be6-424f41c60812.MOBGDM5FDYUKKJQG.SEARCH&ppt=hp&ppn=homepage&ssid=xblz57zfmo0000001678106102813&qH=53863d4d978d5074',\n",
       " 'https://www.flipkart.com/oneplus-nord-ce-5g-silver-ray-128-gb/p/itmc4c02029d9c90?pid=MOBGDM57QA9WVYBK&lid=LSTMOBGDM57QA9WVYBK9RKH07&marketplace=FLIPKART&q=Oneplus+Nord&store=tyy%2F4io&srno=s_1_20&otracker=search&otracker1=search&fm=organic&iid=eef78e0a-4359-4027-8be6-424f41c60812.MOBGDM57QA9WVYBK.SEARCH&ppt=hp&ppn=homepage&ssid=xblz57zfmo0000001678106102813&qH=53863d4d978d5074',\n",
       " 'https://www.flipkart.com/oneplus-nord-2t-5g-jade-fog-256-gb/p/itm97eda8b1a1566?pid=MOBGHBZHF4YCMGZY&lid=LSTMOBGHBZHF4YCMGZYFNFMJN&marketplace=FLIPKART&q=Oneplus+Nord&store=tyy%2F4io&srno=s_1_21&otracker=search&otracker1=search&fm=organic&iid=eef78e0a-4359-4027-8be6-424f41c60812.MOBGHBZHF4YCMGZY.SEARCH&ppt=hp&ppn=homepage&ssid=xblz57zfmo0000001678106102813&qH=53863d4d978d5074',\n",
       " 'https://www.flipkart.com/oneplus-nord-ce-2-5g-bahama-blue-128-gb/p/itm2a9883679c57c?pid=MOBGJMUH64MTF6PK&lid=LSTMOBGJMUH64MTF6PKOZWBTS&marketplace=FLIPKART&q=Oneplus+Nord&store=tyy%2F4io&srno=s_1_22&otracker=search&otracker1=search&fm=organic&iid=eef78e0a-4359-4027-8be6-424f41c60812.MOBGJMUH64MTF6PK.SEARCH&ppt=hp&ppn=homepage&ssid=xblz57zfmo0000001678106102813&qH=53863d4d978d5074',\n",
       " 'https://www.flipkart.com/oneplus-nord-ce-2-5g-gray-mirror-128-gb/p/itm2a9883679c57c?pid=MOBGDHWMFQBKFV5F&lid=LSTMOBGDHWMFQBKFV5FBSVDDD&marketplace=FLIPKART&q=Oneplus+Nord&store=tyy%2F4io&srno=s_1_23&otracker=search&otracker1=search&fm=organic&iid=eef78e0a-4359-4027-8be6-424f41c60812.MOBGDHWMFQBKFV5F.SEARCH&ppt=hp&ppn=homepage&ssid=xblz57zfmo0000001678106102813&qH=53863d4d978d5074',\n",
       " 'https://www.flipkart.com/oneplus-nord-ce-5g-blue-void-128-gb/p/itmd6dcbd8116ed1?pid=MOBGDM4UUD2FDBPH&lid=LSTMOBGDM4UUD2FDBPHAJNBM9&marketplace=FLIPKART&q=Oneplus+Nord&store=tyy%2F4io&srno=s_1_24&otracker=search&otracker1=search&fm=organic&iid=eef78e0a-4359-4027-8be6-424f41c60812.MOBGDM4UUD2FDBPH.SEARCH&ppt=hp&ppn=homepage&ssid=xblz57zfmo0000001678106102813&qH=53863d4d978d5074']"
      ]
     },
     "execution_count": 56,
     "metadata": {},
     "output_type": "execute_result"
    }
   ],
   "source": [
    "product_url"
   ]
  },
  {
   "cell_type": "code",
   "execution_count": 57,
   "id": "9392dac7",
   "metadata": {},
   "outputs": [],
   "source": [
    "price=[]"
   ]
  },
  {
   "cell_type": "code",
   "execution_count": 58,
   "id": "6779044b",
   "metadata": {},
   "outputs": [],
   "source": [
    "pric=driver.find_elements(By.XPATH,'//div[@class=\"_30jeq3 _1_WHN1\"]')\n",
    "for i in pric:\n",
    "    price.append(i.text)"
   ]
  },
  {
   "cell_type": "code",
   "execution_count": 59,
   "id": "a93465bb",
   "metadata": {},
   "outputs": [
    {
     "data": {
      "text/plain": [
       "['₹19,669',\n",
       " '₹21,999',\n",
       " '₹24,990',\n",
       " '₹19,960',\n",
       " '₹28,999',\n",
       " '₹29,999',\n",
       " '₹23,999',\n",
       " '₹20,999',\n",
       " '₹27,900',\n",
       " '₹27,900',\n",
       " '₹28,949',\n",
       " '₹32,990',\n",
       " '₹23,999',\n",
       " '₹29,799',\n",
       " '₹33,998',\n",
       " '₹24,990',\n",
       " '₹22,999',\n",
       " '₹20,999',\n",
       " '₹24,999',\n",
       " '₹24,499',\n",
       " '₹32,990',\n",
       " '₹24,499',\n",
       " '₹24,995',\n",
       " '₹24,989']"
      ]
     },
     "execution_count": 59,
     "metadata": {},
     "output_type": "execute_result"
    }
   ],
   "source": [
    "price"
   ]
  },
  {
   "cell_type": "code",
   "execution_count": 69,
   "id": "9223b41e",
   "metadata": {},
   "outputs": [
    {
     "data": {
      "text/html": [
       "<div>\n",
       "<style scoped>\n",
       "    .dataframe tbody tr th:only-of-type {\n",
       "        vertical-align: middle;\n",
       "    }\n",
       "\n",
       "    .dataframe tbody tr th {\n",
       "        vertical-align: top;\n",
       "    }\n",
       "\n",
       "    .dataframe thead th {\n",
       "        text-align: right;\n",
       "    }\n",
       "</style>\n",
       "<table border=\"1\" class=\"dataframe\">\n",
       "  <thead>\n",
       "    <tr style=\"text-align: right;\">\n",
       "      <th></th>\n",
       "      <th>Brand</th>\n",
       "      <th>Color</th>\n",
       "      <th>RAM</th>\n",
       "      <th>ROM</th>\n",
       "      <th>Price</th>\n",
       "      <th>Display</th>\n",
       "      <th>Battery</th>\n",
       "      <th>Urls</th>\n",
       "    </tr>\n",
       "  </thead>\n",
       "  <tbody>\n",
       "    <tr>\n",
       "      <th>0</th>\n",
       "      <td>[OnePlus, Nord]</td>\n",
       "      <td>[(Black, Dusk,]</td>\n",
       "      <td>&lt;selenium.webdriver.remote.webelement.WebEleme...</td>\n",
       "      <td>&lt;selenium.webdriver.remote.webelement.WebEleme...</td>\n",
       "      <td>₹19,669</td>\n",
       "      <td>&lt;selenium.webdriver.remote.webelement.WebEleme...</td>\n",
       "      <td>5000 mAh Battery</td>\n",
       "      <td>https://www.flipkart.com/oneplus-nord-ce-2-lit...</td>\n",
       "    </tr>\n",
       "    <tr>\n",
       "      <th>1</th>\n",
       "      <td>[OnePlus, Nord]</td>\n",
       "      <td>[(Black, Dusk,]</td>\n",
       "      <td>&lt;selenium.webdriver.remote.webelement.WebEleme...</td>\n",
       "      <td>&lt;selenium.webdriver.remote.webelement.WebEleme...</td>\n",
       "      <td>₹21,999</td>\n",
       "      <td>&lt;selenium.webdriver.remote.webelement.WebEleme...</td>\n",
       "      <td>5000 mAh Battery</td>\n",
       "      <td>https://www.flipkart.com/oneplus-nord-ce-2-lit...</td>\n",
       "    </tr>\n",
       "    <tr>\n",
       "      <th>2</th>\n",
       "      <td>[OnePlus, Nord]</td>\n",
       "      <td>[(Charcoal, Ink,]</td>\n",
       "      <td>&lt;selenium.webdriver.remote.webelement.WebEleme...</td>\n",
       "      <td>&lt;selenium.webdriver.remote.webelement.WebEleme...</td>\n",
       "      <td>₹24,990</td>\n",
       "      <td>&lt;selenium.webdriver.remote.webelement.WebEleme...</td>\n",
       "      <td>4500 mAh Battery</td>\n",
       "      <td>https://www.flipkart.com/oneplus-nord-ce-5g-ch...</td>\n",
       "    </tr>\n",
       "    <tr>\n",
       "      <th>3</th>\n",
       "      <td>[OnePlus, Nord]</td>\n",
       "      <td>[(Blue, Tide,]</td>\n",
       "      <td>&lt;selenium.webdriver.remote.webelement.WebEleme...</td>\n",
       "      <td>&lt;selenium.webdriver.remote.webelement.WebEleme...</td>\n",
       "      <td>₹19,960</td>\n",
       "      <td>&lt;selenium.webdriver.remote.webelement.WebEleme...</td>\n",
       "      <td>5000 mAh Battery</td>\n",
       "      <td>https://www.flipkart.com/oneplus-nord-ce-2-lit...</td>\n",
       "    </tr>\n",
       "    <tr>\n",
       "      <th>4</th>\n",
       "      <td>[OnePlus, Nord]</td>\n",
       "      <td>[(Jade, Fog,]</td>\n",
       "      <td>&lt;selenium.webdriver.remote.webelement.WebEleme...</td>\n",
       "      <td>&lt;selenium.webdriver.remote.webelement.WebEleme...</td>\n",
       "      <td>₹28,999</td>\n",
       "      <td>&lt;selenium.webdriver.remote.webelement.WebEleme...</td>\n",
       "      <td>4500 mAh Battery</td>\n",
       "      <td>https://www.flipkart.com/oneplus-nord-2t-5g-ja...</td>\n",
       "    </tr>\n",
       "    <tr>\n",
       "      <th>5</th>\n",
       "      <td>[OnePlus, Nord]</td>\n",
       "      <td>[(Gray, Sierra,]</td>\n",
       "      <td>&lt;selenium.webdriver.remote.webelement.WebEleme...</td>\n",
       "      <td>&lt;selenium.webdriver.remote.webelement.WebEleme...</td>\n",
       "      <td>₹29,999</td>\n",
       "      <td>&lt;selenium.webdriver.remote.webelement.WebEleme...</td>\n",
       "      <td>4500 mAh Battery</td>\n",
       "      <td>https://www.flipkart.com/oneplus-nord-2-5g-gra...</td>\n",
       "    </tr>\n",
       "    <tr>\n",
       "      <th>6</th>\n",
       "      <td>[OnePlus, Nord]</td>\n",
       "      <td>[(Gray, Mirror,]</td>\n",
       "      <td>&lt;selenium.webdriver.remote.webelement.WebEleme...</td>\n",
       "      <td>&lt;selenium.webdriver.remote.webelement.WebEleme...</td>\n",
       "      <td>₹23,999</td>\n",
       "      <td>&lt;selenium.webdriver.remote.webelement.WebEleme...</td>\n",
       "      <td>4500 mAh Battery</td>\n",
       "      <td>https://www.flipkart.com/oneplus-nord-ce-2-5g-...</td>\n",
       "    </tr>\n",
       "    <tr>\n",
       "      <th>7</th>\n",
       "      <td>[OnePlus, Nord]</td>\n",
       "      <td>[(Blue, Tide,]</td>\n",
       "      <td>&lt;selenium.webdriver.remote.webelement.WebEleme...</td>\n",
       "      <td>&lt;selenium.webdriver.remote.webelement.WebEleme...</td>\n",
       "      <td>₹20,999</td>\n",
       "      <td>&lt;selenium.webdriver.remote.webelement.WebEleme...</td>\n",
       "      <td>5000 mAh Battery</td>\n",
       "      <td>https://www.flipkart.com/oneplus-nord-ce-2-lit...</td>\n",
       "    </tr>\n",
       "    <tr>\n",
       "      <th>8</th>\n",
       "      <td>[OnePlus, Nord]</td>\n",
       "      <td>[(Blue, Void,]</td>\n",
       "      <td>&lt;selenium.webdriver.remote.webelement.WebEleme...</td>\n",
       "      <td>&lt;selenium.webdriver.remote.webelement.WebEleme...</td>\n",
       "      <td>₹27,900</td>\n",
       "      <td>&lt;selenium.webdriver.remote.webelement.WebEleme...</td>\n",
       "      <td>4500 mAh Battery</td>\n",
       "      <td>https://www.flipkart.com/oneplus-nord-ce-5g-bl...</td>\n",
       "    </tr>\n",
       "    <tr>\n",
       "      <th>9</th>\n",
       "      <td>[OnePlus, Nord]</td>\n",
       "      <td>[(Charcoal, Ink,]</td>\n",
       "      <td>&lt;selenium.webdriver.remote.webelement.WebEleme...</td>\n",
       "      <td>&lt;selenium.webdriver.remote.webelement.WebEleme...</td>\n",
       "      <td>₹27,900</td>\n",
       "      <td>&lt;selenium.webdriver.remote.webelement.WebEleme...</td>\n",
       "      <td>4500 mAh Battery</td>\n",
       "      <td>https://www.flipkart.com/oneplus-nord-ce-5g-ch...</td>\n",
       "    </tr>\n",
       "    <tr>\n",
       "      <th>10</th>\n",
       "      <td>[OnePlus, Nord]</td>\n",
       "      <td>[(Gray, Shadow,]</td>\n",
       "      <td>&lt;selenium.webdriver.remote.webelement.WebEleme...</td>\n",
       "      <td>&lt;selenium.webdriver.remote.webelement.WebEleme...</td>\n",
       "      <td>₹28,949</td>\n",
       "      <td>&lt;selenium.webdriver.remote.webelement.WebEleme...</td>\n",
       "      <td>4500 mAh Battery</td>\n",
       "      <td>https://www.flipkart.com/oneplus-nord-2t-5g-gr...</td>\n",
       "    </tr>\n",
       "    <tr>\n",
       "      <th>11</th>\n",
       "      <td>[OnePlus, Nord]</td>\n",
       "      <td>[(Gray, Shadow,]</td>\n",
       "      <td>&lt;selenium.webdriver.remote.webelement.WebEleme...</td>\n",
       "      <td>&lt;selenium.webdriver.remote.webelement.WebEleme...</td>\n",
       "      <td>₹32,990</td>\n",
       "      <td>&lt;selenium.webdriver.remote.webelement.WebEleme...</td>\n",
       "      <td>4500 mAh Battery</td>\n",
       "      <td>https://www.flipkart.com/oneplus-nord-2t-5g-gr...</td>\n",
       "    </tr>\n",
       "    <tr>\n",
       "      <th>12</th>\n",
       "      <td>[OnePlus, Nord]</td>\n",
       "      <td>[(Gray, Mirror,]</td>\n",
       "      <td>&lt;selenium.webdriver.remote.webelement.WebEleme...</td>\n",
       "      <td>&lt;selenium.webdriver.remote.webelement.WebEleme...</td>\n",
       "      <td>₹23,999</td>\n",
       "      <td>&lt;selenium.webdriver.remote.webelement.WebEleme...</td>\n",
       "      <td>4500 mAh Battery</td>\n",
       "      <td>https://www.flipkart.com/oneplus-nord-ce-2-5g-...</td>\n",
       "    </tr>\n",
       "    <tr>\n",
       "      <th>13</th>\n",
       "      <td>[OnePlus, Nord]</td>\n",
       "      <td>[(Blue, Haze,]</td>\n",
       "      <td>&lt;selenium.webdriver.remote.webelement.WebEleme...</td>\n",
       "      <td>&lt;selenium.webdriver.remote.webelement.WebEleme...</td>\n",
       "      <td>₹29,799</td>\n",
       "      <td>&lt;selenium.webdriver.remote.webelement.WebEleme...</td>\n",
       "      <td>4500 mAh Battery</td>\n",
       "      <td>https://www.flipkart.com/oneplus-nord-2-5g-blu...</td>\n",
       "    </tr>\n",
       "    <tr>\n",
       "      <th>14</th>\n",
       "      <td>[OnePlus, Nord]</td>\n",
       "      <td>[(Blue, Haze,]</td>\n",
       "      <td>&lt;selenium.webdriver.remote.webelement.WebEleme...</td>\n",
       "      <td>&lt;selenium.webdriver.remote.webelement.WebEleme...</td>\n",
       "      <td>₹33,998</td>\n",
       "      <td>&lt;selenium.webdriver.remote.webelement.WebEleme...</td>\n",
       "      <td>4500 mAh Battery</td>\n",
       "      <td>https://www.flipkart.com/oneplus-nord-2-5g-blu...</td>\n",
       "    </tr>\n",
       "    <tr>\n",
       "      <th>15</th>\n",
       "      <td>[OnePlus, Nord]</td>\n",
       "      <td>[(Gray, Mirror,]</td>\n",
       "      <td>&lt;selenium.webdriver.remote.webelement.WebEleme...</td>\n",
       "      <td>&lt;selenium.webdriver.remote.webelement.WebEleme...</td>\n",
       "      <td>₹24,990</td>\n",
       "      <td>&lt;selenium.webdriver.remote.webelement.WebEleme...</td>\n",
       "      <td>4500 mAh Battery</td>\n",
       "      <td>https://www.flipkart.com/oneplus-nord-ce-2-5g-...</td>\n",
       "    </tr>\n",
       "    <tr>\n",
       "      <th>16</th>\n",
       "      <td>[OnePlus, Nord]</td>\n",
       "      <td>[(Blue, Void,]</td>\n",
       "      <td>&lt;selenium.webdriver.remote.webelement.WebEleme...</td>\n",
       "      <td>&lt;selenium.webdriver.remote.webelement.WebEleme...</td>\n",
       "      <td>₹22,999</td>\n",
       "      <td>&lt;selenium.webdriver.remote.webelement.WebEleme...</td>\n",
       "      <td>4500 mAh Battery</td>\n",
       "      <td>https://www.flipkart.com/oneplus-nord-ce-5g-bl...</td>\n",
       "    </tr>\n",
       "    <tr>\n",
       "      <th>17</th>\n",
       "      <td>[OnePlus, Nord]</td>\n",
       "      <td>[(Charcoal, Ink,]</td>\n",
       "      <td>&lt;selenium.webdriver.remote.webelement.WebEleme...</td>\n",
       "      <td>&lt;selenium.webdriver.remote.webelement.WebEleme...</td>\n",
       "      <td>₹20,999</td>\n",
       "      <td>&lt;selenium.webdriver.remote.webelement.WebEleme...</td>\n",
       "      <td>4500 mAh Battery</td>\n",
       "      <td>https://www.flipkart.com/oneplus-nord-ce-5g-ch...</td>\n",
       "    </tr>\n",
       "    <tr>\n",
       "      <th>18</th>\n",
       "      <td>[OnePlus, Nord]</td>\n",
       "      <td>[(Silver, Gray,]</td>\n",
       "      <td>&lt;selenium.webdriver.remote.webelement.WebEleme...</td>\n",
       "      <td>&lt;selenium.webdriver.remote.webelement.WebEleme...</td>\n",
       "      <td>₹24,999</td>\n",
       "      <td>&lt;selenium.webdriver.remote.webelement.WebEleme...</td>\n",
       "      <td>4500 mAh Battery</td>\n",
       "      <td>https://www.flipkart.com/oneplus-nord-ce-5g-si...</td>\n",
       "    </tr>\n",
       "    <tr>\n",
       "      <th>19</th>\n",
       "      <td>[OnePlus, Nord]</td>\n",
       "      <td>[(Silver, Ray,]</td>\n",
       "      <td>&lt;selenium.webdriver.remote.webelement.WebEleme...</td>\n",
       "      <td>&lt;selenium.webdriver.remote.webelement.WebEleme...</td>\n",
       "      <td>₹24,499</td>\n",
       "      <td>&lt;selenium.webdriver.remote.webelement.WebEleme...</td>\n",
       "      <td>4500 mAh Battery</td>\n",
       "      <td>https://www.flipkart.com/oneplus-nord-ce-5g-si...</td>\n",
       "    </tr>\n",
       "    <tr>\n",
       "      <th>20</th>\n",
       "      <td>[OnePlus, Nord]</td>\n",
       "      <td>[(Jade, Fog,]</td>\n",
       "      <td>&lt;selenium.webdriver.remote.webelement.WebEleme...</td>\n",
       "      <td>&lt;selenium.webdriver.remote.webelement.WebEleme...</td>\n",
       "      <td>₹32,990</td>\n",
       "      <td>&lt;selenium.webdriver.remote.webelement.WebEleme...</td>\n",
       "      <td>4500 mAh Battery</td>\n",
       "      <td>https://www.flipkart.com/oneplus-nord-2t-5g-ja...</td>\n",
       "    </tr>\n",
       "    <tr>\n",
       "      <th>21</th>\n",
       "      <td>[OnePlus, Nord]</td>\n",
       "      <td>[(Bahama, Blue,]</td>\n",
       "      <td>&lt;selenium.webdriver.remote.webelement.WebEleme...</td>\n",
       "      <td>&lt;selenium.webdriver.remote.webelement.WebEleme...</td>\n",
       "      <td>₹24,499</td>\n",
       "      <td>&lt;selenium.webdriver.remote.webelement.WebEleme...</td>\n",
       "      <td>4500 mAh Battery</td>\n",
       "      <td>https://www.flipkart.com/oneplus-nord-ce-2-5g-...</td>\n",
       "    </tr>\n",
       "    <tr>\n",
       "      <th>22</th>\n",
       "      <td>[OnePlus, Nord]</td>\n",
       "      <td>[(Gray, Mirror,]</td>\n",
       "      <td>&lt;selenium.webdriver.remote.webelement.WebEleme...</td>\n",
       "      <td>&lt;selenium.webdriver.remote.webelement.WebEleme...</td>\n",
       "      <td>₹24,995</td>\n",
       "      <td>&lt;selenium.webdriver.remote.webelement.WebEleme...</td>\n",
       "      <td>4500 mAh Battery</td>\n",
       "      <td>https://www.flipkart.com/oneplus-nord-ce-2-5g-...</td>\n",
       "    </tr>\n",
       "    <tr>\n",
       "      <th>23</th>\n",
       "      <td>[OnePlus, Nord]</td>\n",
       "      <td>[(Blue, Void,]</td>\n",
       "      <td>&lt;selenium.webdriver.remote.webelement.WebEleme...</td>\n",
       "      <td>&lt;selenium.webdriver.remote.webelement.WebEleme...</td>\n",
       "      <td>₹24,989</td>\n",
       "      <td>&lt;selenium.webdriver.remote.webelement.WebEleme...</td>\n",
       "      <td>4500 mAh Battery</td>\n",
       "      <td>https://www.flipkart.com/oneplus-nord-ce-5g-bl...</td>\n",
       "    </tr>\n",
       "  </tbody>\n",
       "</table>\n",
       "</div>"
      ],
      "text/plain": [
       "              Brand              Color  \\\n",
       "0   [OnePlus, Nord]    [(Black, Dusk,]   \n",
       "1   [OnePlus, Nord]    [(Black, Dusk,]   \n",
       "2   [OnePlus, Nord]  [(Charcoal, Ink,]   \n",
       "3   [OnePlus, Nord]     [(Blue, Tide,]   \n",
       "4   [OnePlus, Nord]      [(Jade, Fog,]   \n",
       "5   [OnePlus, Nord]   [(Gray, Sierra,]   \n",
       "6   [OnePlus, Nord]   [(Gray, Mirror,]   \n",
       "7   [OnePlus, Nord]     [(Blue, Tide,]   \n",
       "8   [OnePlus, Nord]     [(Blue, Void,]   \n",
       "9   [OnePlus, Nord]  [(Charcoal, Ink,]   \n",
       "10  [OnePlus, Nord]   [(Gray, Shadow,]   \n",
       "11  [OnePlus, Nord]   [(Gray, Shadow,]   \n",
       "12  [OnePlus, Nord]   [(Gray, Mirror,]   \n",
       "13  [OnePlus, Nord]     [(Blue, Haze,]   \n",
       "14  [OnePlus, Nord]     [(Blue, Haze,]   \n",
       "15  [OnePlus, Nord]   [(Gray, Mirror,]   \n",
       "16  [OnePlus, Nord]     [(Blue, Void,]   \n",
       "17  [OnePlus, Nord]  [(Charcoal, Ink,]   \n",
       "18  [OnePlus, Nord]   [(Silver, Gray,]   \n",
       "19  [OnePlus, Nord]    [(Silver, Ray,]   \n",
       "20  [OnePlus, Nord]      [(Jade, Fog,]   \n",
       "21  [OnePlus, Nord]   [(Bahama, Blue,]   \n",
       "22  [OnePlus, Nord]   [(Gray, Mirror,]   \n",
       "23  [OnePlus, Nord]     [(Blue, Void,]   \n",
       "\n",
       "                                                  RAM  \\\n",
       "0   <selenium.webdriver.remote.webelement.WebEleme...   \n",
       "1   <selenium.webdriver.remote.webelement.WebEleme...   \n",
       "2   <selenium.webdriver.remote.webelement.WebEleme...   \n",
       "3   <selenium.webdriver.remote.webelement.WebEleme...   \n",
       "4   <selenium.webdriver.remote.webelement.WebEleme...   \n",
       "5   <selenium.webdriver.remote.webelement.WebEleme...   \n",
       "6   <selenium.webdriver.remote.webelement.WebEleme...   \n",
       "7   <selenium.webdriver.remote.webelement.WebEleme...   \n",
       "8   <selenium.webdriver.remote.webelement.WebEleme...   \n",
       "9   <selenium.webdriver.remote.webelement.WebEleme...   \n",
       "10  <selenium.webdriver.remote.webelement.WebEleme...   \n",
       "11  <selenium.webdriver.remote.webelement.WebEleme...   \n",
       "12  <selenium.webdriver.remote.webelement.WebEleme...   \n",
       "13  <selenium.webdriver.remote.webelement.WebEleme...   \n",
       "14  <selenium.webdriver.remote.webelement.WebEleme...   \n",
       "15  <selenium.webdriver.remote.webelement.WebEleme...   \n",
       "16  <selenium.webdriver.remote.webelement.WebEleme...   \n",
       "17  <selenium.webdriver.remote.webelement.WebEleme...   \n",
       "18  <selenium.webdriver.remote.webelement.WebEleme...   \n",
       "19  <selenium.webdriver.remote.webelement.WebEleme...   \n",
       "20  <selenium.webdriver.remote.webelement.WebEleme...   \n",
       "21  <selenium.webdriver.remote.webelement.WebEleme...   \n",
       "22  <selenium.webdriver.remote.webelement.WebEleme...   \n",
       "23  <selenium.webdriver.remote.webelement.WebEleme...   \n",
       "\n",
       "                                                  ROM    Price  \\\n",
       "0   <selenium.webdriver.remote.webelement.WebEleme...  ₹19,669   \n",
       "1   <selenium.webdriver.remote.webelement.WebEleme...  ₹21,999   \n",
       "2   <selenium.webdriver.remote.webelement.WebEleme...  ₹24,990   \n",
       "3   <selenium.webdriver.remote.webelement.WebEleme...  ₹19,960   \n",
       "4   <selenium.webdriver.remote.webelement.WebEleme...  ₹28,999   \n",
       "5   <selenium.webdriver.remote.webelement.WebEleme...  ₹29,999   \n",
       "6   <selenium.webdriver.remote.webelement.WebEleme...  ₹23,999   \n",
       "7   <selenium.webdriver.remote.webelement.WebEleme...  ₹20,999   \n",
       "8   <selenium.webdriver.remote.webelement.WebEleme...  ₹27,900   \n",
       "9   <selenium.webdriver.remote.webelement.WebEleme...  ₹27,900   \n",
       "10  <selenium.webdriver.remote.webelement.WebEleme...  ₹28,949   \n",
       "11  <selenium.webdriver.remote.webelement.WebEleme...  ₹32,990   \n",
       "12  <selenium.webdriver.remote.webelement.WebEleme...  ₹23,999   \n",
       "13  <selenium.webdriver.remote.webelement.WebEleme...  ₹29,799   \n",
       "14  <selenium.webdriver.remote.webelement.WebEleme...  ₹33,998   \n",
       "15  <selenium.webdriver.remote.webelement.WebEleme...  ₹24,990   \n",
       "16  <selenium.webdriver.remote.webelement.WebEleme...  ₹22,999   \n",
       "17  <selenium.webdriver.remote.webelement.WebEleme...  ₹20,999   \n",
       "18  <selenium.webdriver.remote.webelement.WebEleme...  ₹24,999   \n",
       "19  <selenium.webdriver.remote.webelement.WebEleme...  ₹24,499   \n",
       "20  <selenium.webdriver.remote.webelement.WebEleme...  ₹32,990   \n",
       "21  <selenium.webdriver.remote.webelement.WebEleme...  ₹24,499   \n",
       "22  <selenium.webdriver.remote.webelement.WebEleme...  ₹24,995   \n",
       "23  <selenium.webdriver.remote.webelement.WebEleme...  ₹24,989   \n",
       "\n",
       "                                              Display           Battery  \\\n",
       "0   <selenium.webdriver.remote.webelement.WebEleme...  5000 mAh Battery   \n",
       "1   <selenium.webdriver.remote.webelement.WebEleme...  5000 mAh Battery   \n",
       "2   <selenium.webdriver.remote.webelement.WebEleme...  4500 mAh Battery   \n",
       "3   <selenium.webdriver.remote.webelement.WebEleme...  5000 mAh Battery   \n",
       "4   <selenium.webdriver.remote.webelement.WebEleme...  4500 mAh Battery   \n",
       "5   <selenium.webdriver.remote.webelement.WebEleme...  4500 mAh Battery   \n",
       "6   <selenium.webdriver.remote.webelement.WebEleme...  4500 mAh Battery   \n",
       "7   <selenium.webdriver.remote.webelement.WebEleme...  5000 mAh Battery   \n",
       "8   <selenium.webdriver.remote.webelement.WebEleme...  4500 mAh Battery   \n",
       "9   <selenium.webdriver.remote.webelement.WebEleme...  4500 mAh Battery   \n",
       "10  <selenium.webdriver.remote.webelement.WebEleme...  4500 mAh Battery   \n",
       "11  <selenium.webdriver.remote.webelement.WebEleme...  4500 mAh Battery   \n",
       "12  <selenium.webdriver.remote.webelement.WebEleme...  4500 mAh Battery   \n",
       "13  <selenium.webdriver.remote.webelement.WebEleme...  4500 mAh Battery   \n",
       "14  <selenium.webdriver.remote.webelement.WebEleme...  4500 mAh Battery   \n",
       "15  <selenium.webdriver.remote.webelement.WebEleme...  4500 mAh Battery   \n",
       "16  <selenium.webdriver.remote.webelement.WebEleme...  4500 mAh Battery   \n",
       "17  <selenium.webdriver.remote.webelement.WebEleme...  4500 mAh Battery   \n",
       "18  <selenium.webdriver.remote.webelement.WebEleme...  4500 mAh Battery   \n",
       "19  <selenium.webdriver.remote.webelement.WebEleme...  4500 mAh Battery   \n",
       "20  <selenium.webdriver.remote.webelement.WebEleme...  4500 mAh Battery   \n",
       "21  <selenium.webdriver.remote.webelement.WebEleme...  4500 mAh Battery   \n",
       "22  <selenium.webdriver.remote.webelement.WebEleme...  4500 mAh Battery   \n",
       "23  <selenium.webdriver.remote.webelement.WebEleme...  4500 mAh Battery   \n",
       "\n",
       "                                                 Urls  \n",
       "0   https://www.flipkart.com/oneplus-nord-ce-2-lit...  \n",
       "1   https://www.flipkart.com/oneplus-nord-ce-2-lit...  \n",
       "2   https://www.flipkart.com/oneplus-nord-ce-5g-ch...  \n",
       "3   https://www.flipkart.com/oneplus-nord-ce-2-lit...  \n",
       "4   https://www.flipkart.com/oneplus-nord-2t-5g-ja...  \n",
       "5   https://www.flipkart.com/oneplus-nord-2-5g-gra...  \n",
       "6   https://www.flipkart.com/oneplus-nord-ce-2-5g-...  \n",
       "7   https://www.flipkart.com/oneplus-nord-ce-2-lit...  \n",
       "8   https://www.flipkart.com/oneplus-nord-ce-5g-bl...  \n",
       "9   https://www.flipkart.com/oneplus-nord-ce-5g-ch...  \n",
       "10  https://www.flipkart.com/oneplus-nord-2t-5g-gr...  \n",
       "11  https://www.flipkart.com/oneplus-nord-2t-5g-gr...  \n",
       "12  https://www.flipkart.com/oneplus-nord-ce-2-5g-...  \n",
       "13  https://www.flipkart.com/oneplus-nord-2-5g-blu...  \n",
       "14  https://www.flipkart.com/oneplus-nord-2-5g-blu...  \n",
       "15  https://www.flipkart.com/oneplus-nord-ce-2-5g-...  \n",
       "16  https://www.flipkart.com/oneplus-nord-ce-5g-bl...  \n",
       "17  https://www.flipkart.com/oneplus-nord-ce-5g-ch...  \n",
       "18  https://www.flipkart.com/oneplus-nord-ce-5g-si...  \n",
       "19  https://www.flipkart.com/oneplus-nord-ce-5g-si...  \n",
       "20  https://www.flipkart.com/oneplus-nord-2t-5g-ja...  \n",
       "21  https://www.flipkart.com/oneplus-nord-ce-2-5g-...  \n",
       "22  https://www.flipkart.com/oneplus-nord-ce-2-5g-...  \n",
       "23  https://www.flipkart.com/oneplus-nord-ce-5g-bl...  "
      ]
     },
     "execution_count": 69,
     "metadata": {},
     "output_type": "execute_result"
    }
   ],
   "source": [
    "import pandas as pd\n",
    "df=pd.DataFrame({'Brand':brand_name[0:24],'Color':color_name[0:24],'RAM':ram[0:24],'ROM':rom[0:24],'Price':price[0:24],'Display':disp[0:24],'Battery':batt[0:24],'Urls':product_url[0:24]})\n",
    "df"
   ]
  },
  {
   "cell_type": "code",
   "execution_count": null,
   "id": "68663210",
   "metadata": {},
   "outputs": [],
   "source": []
  },
  {
   "cell_type": "code",
   "execution_count": 4,
   "id": "870fec42",
   "metadata": {},
   "outputs": [],
   "source": [
    "#Q-6) Write a program to scrap all the available details of best gaming laptops from digit.in."
   ]
  },
  {
   "cell_type": "code",
   "execution_count": 5,
   "id": "d9891961",
   "metadata": {},
   "outputs": [],
   "source": [
    "driver=webdriver.Chrome(r\"chromedriver.exe\")"
   ]
  },
  {
   "cell_type": "code",
   "execution_count": 10,
   "id": "51468fbe",
   "metadata": {},
   "outputs": [],
   "source": [
    "driver.get(\"https://www.digit.in/\")"
   ]
  },
  {
   "cell_type": "code",
   "execution_count": 11,
   "id": "77866478",
   "metadata": {},
   "outputs": [],
   "source": [
    "game_but=driver.find_element(By.XPATH,'/html/body/div[2]/div/ul/li[5]/a')\n",
    "game_but.click()"
   ]
  },
  {
   "cell_type": "code",
   "execution_count": 15,
   "id": "4cd4903b",
   "metadata": {},
   "outputs": [],
   "source": [
    "gaming_laptop=[]"
   ]
  },
  {
   "cell_type": "code",
   "execution_count": 17,
   "id": "b7e16af7",
   "metadata": {},
   "outputs": [],
   "source": [
    "gaming_lap=driver.find_elements(By.XPATH,\"//h2\")\n",
    "for i in gaming_lap:\n",
    "    gaming_laptop.append(i.text)"
   ]
  },
  {
   "cell_type": "code",
   "execution_count": 18,
   "id": "0dc8f2d7",
   "metadata": {},
   "outputs": [
    {
     "data": {
      "text/plain": [
       "10"
      ]
     },
     "execution_count": 18,
     "metadata": {},
     "output_type": "execute_result"
    }
   ],
   "source": [
    "len(gaming_laptop)"
   ]
  },
  {
   "cell_type": "code",
   "execution_count": 19,
   "id": "67f94059",
   "metadata": {},
   "outputs": [
    {
     "data": {
      "text/plain": [
       "['Best Gaming Laptops Under Rs 50,000',\n",
       " 'Best Asus Gaming Laptops in India',\n",
       " 'Best HP Gaming Laptop in India',\n",
       " 'Best Dell Gaming Laptop',\n",
       " 'Best Gaming Laptops Under Rs. 60000',\n",
       " 'Best Lenovo Gaming Laptops in India',\n",
       " 'Best Gaming Laptops under Rs. 40000',\n",
       " 'Best MSI Gaming Laptops in India',\n",
       " 'Best Gaming Laptops under ₹70,000',\n",
       " 'Best AMD Laptops for Gaming under 50000']"
      ]
     },
     "execution_count": 19,
     "metadata": {},
     "output_type": "execute_result"
    }
   ],
   "source": [
    "gaming_laptop"
   ]
  },
  {
   "cell_type": "code",
   "execution_count": 20,
   "id": "121683c5",
   "metadata": {},
   "outputs": [],
   "source": [
    "images=driver.find_elements(By.XPATH,'//img[@class=\"lzy_img\"]')\n",
    "img_urls=[]\n",
    "img_data=[]\n",
    "for image in images:\n",
    "    source=image.get_attribute('src')\n",
    "    if source is not None:\n",
    "        if (source[0:4]=='http'):  #IF FIRST 4 CHARACTER START HTTP\n",
    "            img_urls.append(source)\n"
   ]
  },
  {
   "cell_type": "code",
   "execution_count": 23,
   "id": "0f7d505d",
   "metadata": {},
   "outputs": [
    {
     "data": {
      "text/plain": [
       "['https://static.digit.in/default/21e0f53addc9f61eaecd02f61fcce59e02dd2caa.jpeg?tr=?tr=n-top10_img',\n",
       " 'https://static.digit.in/default/5c7016978510562c4ca86e5e13555ffcdb555e3c.jpeg?tr=?tr=n-top10_img',\n",
       " 'https://static.digit.in/default/b8c7cd6dda130869eb5c825a6af219440b091312.jpeg?tr=?tr=n-top10_img',\n",
       " 'https://static.digit.in/default/3a4371e722a70a963f49e7dfd9224985d6127aa9.jpeg?tr=?tr=n-top10_img',\n",
       " 'https://static.digit.in/default/5d1bae23e8080559a4769f3b17dacdd3254722ac.jpeg?tr=?tr=n-top10_img',\n",
       " 'https://static.digit.in/default/e21afa8945869a317e19c954a90d1302e36cef1a.jpeg?tr=?tr=n-top10_img',\n",
       " 'https://static.digit.in/default/06cccbff8f3fefc1766892937a99b727211e2848.jpeg?tr=?tr=n-top10_img',\n",
       " 'https://static.digit.in/default/3bab08e850d3034e9f97e666d3ece338c4347905.jpeg?tr=?tr=n-top10_img',\n",
       " 'https://static.digit.in/default/68b32a6f1ee9ab66642092c46fb33c39b8d2788d.jpeg?tr=?tr=n-top10_img',\n",
       " 'https://static.digit.in/default/b0813d6ba9e8b5b05c5d4697d8d4c844d7cae5df.jpeg?tr=?tr=n-top10_img']"
      ]
     },
     "execution_count": 23,
     "metadata": {},
     "output_type": "execute_result"
    }
   ],
   "source": [
    "img_urls[6:16]"
   ]
  },
  {
   "cell_type": "code",
   "execution_count": 15,
   "id": "fe3f541c",
   "metadata": {},
   "outputs": [],
   "source": [
    "gaming_laptop=[]"
   ]
  },
  {
   "cell_type": "code",
   "execution_count": 17,
   "id": "0e628a02",
   "metadata": {},
   "outputs": [],
   "source": [
    "gaming_lap=driver.find_elements(By.XPATH,\"//h2\")\n",
    "for i in gaming_lap:\n",
    "    gaming_laptop.append(i.text)"
   ]
  },
  {
   "cell_type": "code",
   "execution_count": 24,
   "id": "9f0f8e82",
   "metadata": {},
   "outputs": [],
   "source": [
    "#Q 7)Write a python program to scrape the details for all billionaires from www.forbes.com. Details to be scrapped:\n",
    "#“Rank”, “Name”, “Net worth”, “Age”, “Citizenship”, “Source”, “Industry”."
   ]
  },
  {
   "cell_type": "code",
   "execution_count": 19,
   "id": "7f352ee9",
   "metadata": {},
   "outputs": [],
   "source": [
    "driver=webdriver.Chrome(r\"chromedriver.exe\")"
   ]
  },
  {
   "cell_type": "code",
   "execution_count": 20,
   "id": "ebf73a7c",
   "metadata": {},
   "outputs": [],
   "source": [
    "driver.get(\"https://www.forbes.com/billionaires/\")"
   ]
  },
  {
   "cell_type": "code",
   "execution_count": 16,
   "id": "9d53641e",
   "metadata": {},
   "outputs": [],
   "source": [
    "stag=driver.find_element(By.CLASS_NAME,\"_69hVhdY4\")\n",
    "stag.click()"
   ]
  },
  {
   "cell_type": "code",
   "execution_count": null,
   "id": "db1021b4",
   "metadata": {},
   "outputs": [],
   "source": [
    "tag2=driver.find_elememt(By.CLASS_NAME,\"mpBfVZz3\")\n",
    "tag2.click()"
   ]
  },
  {
   "cell_type": "code",
   "execution_count": 21,
   "id": "5ebd9713",
   "metadata": {},
   "outputs": [],
   "source": [
    "billionair=[]"
   ]
  },
  {
   "cell_type": "code",
   "execution_count": 23,
   "id": "08841fb3",
   "metadata": {},
   "outputs": [],
   "source": [
    "bil=driver.find_elements(By.XPATH,'//div[@class=\"personName\"]')\n",
    "for i in bil:\n",
    "    billionair.append(i.text)\n",
    "    "
   ]
  },
  {
   "cell_type": "code",
   "execution_count": 24,
   "id": "026e6d10",
   "metadata": {},
   "outputs": [
    {
     "data": {
      "text/plain": [
       "200"
      ]
     },
     "execution_count": 24,
     "metadata": {},
     "output_type": "execute_result"
    }
   ],
   "source": [
    "len(billionair)"
   ]
  },
  {
   "cell_type": "code",
   "execution_count": 25,
   "id": "2bb317bf",
   "metadata": {},
   "outputs": [],
   "source": [
    "rank=[]"
   ]
  },
  {
   "cell_type": "code",
   "execution_count": 26,
   "id": "7f36bc65",
   "metadata": {},
   "outputs": [],
   "source": [
    "ran=driver.find_elements(By.XPATH,'//div[@class=\"rank\"]')\n",
    "for i in ran:\n",
    "    rank.append(i.text)   "
   ]
  },
  {
   "cell_type": "code",
   "execution_count": 27,
   "id": "693977eb",
   "metadata": {},
   "outputs": [
    {
     "data": {
      "text/plain": [
       "200"
      ]
     },
     "execution_count": 27,
     "metadata": {},
     "output_type": "execute_result"
    }
   ],
   "source": [
    "len(rank)"
   ]
  },
  {
   "cell_type": "code",
   "execution_count": 28,
   "id": "2792bc41",
   "metadata": {},
   "outputs": [],
   "source": [
    "netw=[]"
   ]
  },
  {
   "cell_type": "code",
   "execution_count": 29,
   "id": "27b3e908",
   "metadata": {},
   "outputs": [],
   "source": [
    "net=driver.find_elements(By.XPATH,'//div[@class=\"netWorth\"]')\n",
    "for i in net:\n",
    "    netw.append(i.text)\n",
    "    "
   ]
  },
  {
   "cell_type": "code",
   "execution_count": 30,
   "id": "c6a8083c",
   "metadata": {},
   "outputs": [
    {
     "data": {
      "text/plain": [
       "200"
      ]
     },
     "execution_count": 30,
     "metadata": {},
     "output_type": "execute_result"
    }
   ],
   "source": [
    "len(netw)"
   ]
  },
  {
   "cell_type": "code",
   "execution_count": 31,
   "id": "3ee8dfe0",
   "metadata": {},
   "outputs": [],
   "source": [
    "ages=[]"
   ]
  },
  {
   "cell_type": "code",
   "execution_count": 32,
   "id": "aef280e6",
   "metadata": {},
   "outputs": [],
   "source": [
    "age=driver.find_elements(By.XPATH,'//div[@class=\"age\"]')\n",
    "for i in age:\n",
    "    ages.append(i.text)\n",
    "    "
   ]
  },
  {
   "cell_type": "code",
   "execution_count": 34,
   "id": "c8356eb4",
   "metadata": {},
   "outputs": [
    {
     "data": {
      "text/plain": [
       "200"
      ]
     },
     "execution_count": 34,
     "metadata": {},
     "output_type": "execute_result"
    }
   ],
   "source": [
    "len(ages)"
   ]
  },
  {
   "cell_type": "code",
   "execution_count": 35,
   "id": "015091c2",
   "metadata": {},
   "outputs": [],
   "source": [
    "cont=[]"
   ]
  },
  {
   "cell_type": "code",
   "execution_count": 36,
   "id": "9559e569",
   "metadata": {},
   "outputs": [],
   "source": [
    "con=driver.find_elements(By.XPATH,'//div[@class=\"countryOfCitizenship\"]')\n",
    "for i in con:\n",
    "    cont.append(i.text)\n",
    "    "
   ]
  },
  {
   "cell_type": "code",
   "execution_count": 37,
   "id": "0440b116",
   "metadata": {},
   "outputs": [
    {
     "data": {
      "text/plain": [
       "200"
      ]
     },
     "execution_count": 37,
     "metadata": {},
     "output_type": "execute_result"
    }
   ],
   "source": [
    "len(cont)"
   ]
  },
  {
   "cell_type": "code",
   "execution_count": 41,
   "id": "56529d70",
   "metadata": {},
   "outputs": [],
   "source": [
    "sourse=[]"
   ]
  },
  {
   "cell_type": "code",
   "execution_count": 42,
   "id": "64aead60",
   "metadata": {},
   "outputs": [],
   "source": [
    "sou=driver.find_elements(By.XPATH,'//span[@class=\"source-text\"]')\n",
    "for i in sou:\n",
    "    sourse.append(i.text)\n",
    "    "
   ]
  },
  {
   "cell_type": "code",
   "execution_count": 43,
   "id": "3a132ac8",
   "metadata": {},
   "outputs": [
    {
     "data": {
      "text/plain": [
       "200"
      ]
     },
     "execution_count": 43,
     "metadata": {},
     "output_type": "execute_result"
    }
   ],
   "source": [
    "len(sourse)"
   ]
  },
  {
   "cell_type": "code",
   "execution_count": 44,
   "id": "383422b6",
   "metadata": {},
   "outputs": [],
   "source": [
    "indu=[]"
   ]
  },
  {
   "cell_type": "code",
   "execution_count": 45,
   "id": "76248050",
   "metadata": {},
   "outputs": [],
   "source": [
    "ind=driver.find_elements(By.XPATH,'//div[@class=\"category\"]')\n",
    "for i in ind:\n",
    "    indu.append(i.text)\n",
    "    "
   ]
  },
  {
   "cell_type": "code",
   "execution_count": 46,
   "id": "b623ff64",
   "metadata": {},
   "outputs": [
    {
     "data": {
      "text/plain": [
       "200"
      ]
     },
     "execution_count": 46,
     "metadata": {},
     "output_type": "execute_result"
    }
   ],
   "source": [
    "len(indu)"
   ]
  },
  {
   "cell_type": "code",
   "execution_count": 47,
   "id": "1ecad201",
   "metadata": {},
   "outputs": [
    {
     "data": {
      "text/html": [
       "<div>\n",
       "<style scoped>\n",
       "    .dataframe tbody tr th:only-of-type {\n",
       "        vertical-align: middle;\n",
       "    }\n",
       "\n",
       "    .dataframe tbody tr th {\n",
       "        vertical-align: top;\n",
       "    }\n",
       "\n",
       "    .dataframe thead th {\n",
       "        text-align: right;\n",
       "    }\n",
       "</style>\n",
       "<table border=\"1\" class=\"dataframe\">\n",
       "  <thead>\n",
       "    <tr style=\"text-align: right;\">\n",
       "      <th></th>\n",
       "      <th>Rank</th>\n",
       "      <th>Name</th>\n",
       "      <th>Age</th>\n",
       "      <th>Net_worth</th>\n",
       "      <th>citizen</th>\n",
       "      <th>Source</th>\n",
       "      <th>Industry</th>\n",
       "    </tr>\n",
       "  </thead>\n",
       "  <tbody>\n",
       "    <tr>\n",
       "      <th>0</th>\n",
       "      <td>1.</td>\n",
       "      <td>Elon Musk</td>\n",
       "      <td>50</td>\n",
       "      <td>$219 B</td>\n",
       "      <td>United States</td>\n",
       "      <td>Tesla, SpaceX</td>\n",
       "      <td>Automotive</td>\n",
       "    </tr>\n",
       "    <tr>\n",
       "      <th>1</th>\n",
       "      <td>2.</td>\n",
       "      <td>Jeff Bezos</td>\n",
       "      <td>58</td>\n",
       "      <td>$171 B</td>\n",
       "      <td>United States</td>\n",
       "      <td>Amazon</td>\n",
       "      <td>Automotive</td>\n",
       "    </tr>\n",
       "    <tr>\n",
       "      <th>2</th>\n",
       "      <td>3.</td>\n",
       "      <td>Bernard Arnault &amp; family</td>\n",
       "      <td>73</td>\n",
       "      <td>$158 B</td>\n",
       "      <td>France</td>\n",
       "      <td>LVMH</td>\n",
       "      <td>Automotive</td>\n",
       "    </tr>\n",
       "    <tr>\n",
       "      <th>3</th>\n",
       "      <td>4.</td>\n",
       "      <td>Bill Gates</td>\n",
       "      <td>66</td>\n",
       "      <td>$129 B</td>\n",
       "      <td>United States</td>\n",
       "      <td>Microsoft</td>\n",
       "      <td>Automotive</td>\n",
       "    </tr>\n",
       "    <tr>\n",
       "      <th>4</th>\n",
       "      <td>5.</td>\n",
       "      <td>Warren Buffett</td>\n",
       "      <td>91</td>\n",
       "      <td>$118 B</td>\n",
       "      <td>United States</td>\n",
       "      <td>Berkshire Hathaway</td>\n",
       "      <td>Automotive</td>\n",
       "    </tr>\n",
       "    <tr>\n",
       "      <th>...</th>\n",
       "      <td>...</td>\n",
       "      <td>...</td>\n",
       "      <td>...</td>\n",
       "      <td>...</td>\n",
       "      <td>...</td>\n",
       "      <td>...</td>\n",
       "      <td>...</td>\n",
       "    </tr>\n",
       "    <tr>\n",
       "      <th>195</th>\n",
       "      <td>192.</td>\n",
       "      <td>Marcel Herrmann Telles</td>\n",
       "      <td>72</td>\n",
       "      <td>$10.3 B</td>\n",
       "      <td>Brazil</td>\n",
       "      <td>beer</td>\n",
       "      <td>Diversified</td>\n",
       "    </tr>\n",
       "    <tr>\n",
       "      <th>196</th>\n",
       "      <td>197.</td>\n",
       "      <td>Leon Black</td>\n",
       "      <td>70</td>\n",
       "      <td>$10 B</td>\n",
       "      <td>United States</td>\n",
       "      <td>private equity</td>\n",
       "      <td>Diversified</td>\n",
       "    </tr>\n",
       "    <tr>\n",
       "      <th>197</th>\n",
       "      <td>197.</td>\n",
       "      <td>Joe Gebbia</td>\n",
       "      <td>40</td>\n",
       "      <td>$10 B</td>\n",
       "      <td>United States</td>\n",
       "      <td>Airbnb</td>\n",
       "      <td>Diversified</td>\n",
       "    </tr>\n",
       "    <tr>\n",
       "      <th>198</th>\n",
       "      <td>197.</td>\n",
       "      <td>David Geffen</td>\n",
       "      <td>79</td>\n",
       "      <td>$10 B</td>\n",
       "      <td>United States</td>\n",
       "      <td>movies, record labels</td>\n",
       "      <td>Diversified</td>\n",
       "    </tr>\n",
       "    <tr>\n",
       "      <th>199</th>\n",
       "      <td>197.</td>\n",
       "      <td>Yu Renrong</td>\n",
       "      <td>56</td>\n",
       "      <td>$10 B</td>\n",
       "      <td>China</td>\n",
       "      <td>semiconductors</td>\n",
       "      <td>Diversified</td>\n",
       "    </tr>\n",
       "  </tbody>\n",
       "</table>\n",
       "<p>200 rows × 7 columns</p>\n",
       "</div>"
      ],
      "text/plain": [
       "     Rank                      Name Age Net_worth        citizen  \\\n",
       "0      1.                 Elon Musk  50    $219 B  United States   \n",
       "1      2.                Jeff Bezos  58    $171 B  United States   \n",
       "2      3.  Bernard Arnault & family  73    $158 B         France   \n",
       "3      4.                Bill Gates  66    $129 B  United States   \n",
       "4      5.            Warren Buffett  91    $118 B  United States   \n",
       "..    ...                       ...  ..       ...            ...   \n",
       "195  192.    Marcel Herrmann Telles  72   $10.3 B         Brazil   \n",
       "196  197.                Leon Black  70     $10 B  United States   \n",
       "197  197.                Joe Gebbia  40     $10 B  United States   \n",
       "198  197.              David Geffen  79     $10 B  United States   \n",
       "199  197.                Yu Renrong  56     $10 B          China   \n",
       "\n",
       "                    Source     Industry  \n",
       "0            Tesla, SpaceX   Automotive  \n",
       "1                   Amazon   Automotive  \n",
       "2                     LVMH   Automotive  \n",
       "3                Microsoft   Automotive  \n",
       "4       Berkshire Hathaway   Automotive  \n",
       "..                     ...          ...  \n",
       "195                   beer  Diversified  \n",
       "196         private equity  Diversified  \n",
       "197                 Airbnb  Diversified  \n",
       "198  movies, record labels  Diversified  \n",
       "199         semiconductors  Diversified  \n",
       "\n",
       "[200 rows x 7 columns]"
      ]
     },
     "execution_count": 47,
     "metadata": {},
     "output_type": "execute_result"
    }
   ],
   "source": [
    "import pandas as pd\n",
    "df=pd.DataFrame({'Rank':rank,'Name':billionair,'Age':ages,'Net_worth':netw,'citizen':cont,'Source':sourse,'Industry':indu})\n",
    "df"
   ]
  },
  {
   "cell_type": "code",
   "execution_count": null,
   "id": "a378e4ee",
   "metadata": {},
   "outputs": [],
   "source": [
    "#Q NO-9 - Write a python program to scrape a data for all available Hostels from https://www.hostelworld.com/ in\n",
    "#“London” location. You have to scrape hostel name, distance from city centre, ratings, total reviews, overall\n",
    "#reviews, privates from price, dorms from price, facilities and property description."
   ]
  },
  {
   "cell_type": "code",
   "execution_count": 2,
   "id": "d724dc2d",
   "metadata": {},
   "outputs": [],
   "source": [
    "driver=webdriver.Chrome(r\"chromedriver.exe\")"
   ]
  },
  {
   "cell_type": "code",
   "execution_count": 3,
   "id": "712d361e",
   "metadata": {},
   "outputs": [],
   "source": [
    "driver.get(\"https://www.hostelworld.com/\")"
   ]
  },
  {
   "cell_type": "code",
   "execution_count": 5,
   "id": "26a745df",
   "metadata": {},
   "outputs": [],
   "source": [
    "ser=driver.find_element(By.XPATH,'/html/body/div[3]/div/div/div[2]/div[2]/div/div/div[4]/div/div[2]/div/div[1]/div/div/div/input')\n",
    "ser.send_keys('London')"
   ]
  },
  {
   "cell_type": "code",
   "execution_count": 8,
   "id": "2676d0e3",
   "metadata": {},
   "outputs": [],
   "source": [
    "clik=driver.find_element(By.XPATH,'/html/body/div[3]/div/div/div[2]/div[2]/div/div/div[4]/div/div[2]/div/div[1]/div/div/ul/li[2]')\n",
    "clik.click()"
   ]
  },
  {
   "cell_type": "code",
   "execution_count": 9,
   "id": "7cd4f879",
   "metadata": {},
   "outputs": [],
   "source": [
    "letgo=driver.find_element(By.XPATH,'/html/body/div[3]/div/div/div[2]/div[2]/div/div/div[4]/div/div[2]/div/div[5]/button')\n",
    "letgo.click()"
   ]
  },
  {
   "cell_type": "code",
   "execution_count": 66,
   "id": "8f401d8c",
   "metadata": {},
   "outputs": [],
   "source": [
    "hotels=[]"
   ]
  },
  {
   "cell_type": "code",
   "execution_count": 67,
   "id": "bf6cdbd8",
   "metadata": {},
   "outputs": [],
   "source": [
    "hot=driver.find_elements(By.XPATH,'//h2')\n",
    "for i in hot:\n",
    "    hotels.append(i.text)\n",
    "    "
   ]
  },
  {
   "cell_type": "code",
   "execution_count": 68,
   "id": "22b2002d",
   "metadata": {},
   "outputs": [
    {
     "data": {
      "text/plain": [
       "[\"St Christopher's Village\",\n",
       " \"St Christopher's Village\",\n",
       " 'Hostel One Notting Hill',\n",
       " 'Generator London',\n",
       " 'Safestay London Elephant & Castle',\n",
       " 'Urbany Hostel London',\n",
       " 'Safestay London Kensington Holland Park',\n",
       " 'No.8 Seven Sisters',\n",
       " \"St Christopher's Hammersmith\",\n",
       " \"St Christopher's Inn - London Bridge\",\n",
       " \"St Christopher's Inn - Liverpool Street\",\n",
       " 'Smart Hyde Park View Hostel',\n",
       " 'PubLove @ The Steam Engine, Waterloo',\n",
       " \"St Christopher's Greenwich\",\n",
       " 'Park Villa',\n",
       " 'Kensal Green Backpackers',\n",
       " 'Saint James Backpackers',\n",
       " 'PubLove @ The Crown, Battersea',\n",
       " 'PubLove @ The White Ferry, Victoria',\n",
       " 'Bell House Hostel',\n",
       " 'Selina Camden',\n",
       " 'Elmwood Hotel',\n",
       " 'PubLove @ The Rose & Crown',\n",
       " 'PubLove @ The Green Man, Paddington',\n",
       " 'London Waterloo Hostel',\n",
       " 'PubLove @ The Exmouth Arms, Euston',\n",
       " 'Hostelle London',\n",
       " 'London House Hotel',\n",
       " 'TLK Apartments & Hotel',\n",
       " 'Kip Hotel',\n",
       " 'Beaconsfield']"
      ]
     },
     "execution_count": 68,
     "metadata": {},
     "output_type": "execute_result"
    }
   ],
   "source": [
    "hotels"
   ]
  },
  {
   "cell_type": "code",
   "execution_count": 80,
   "id": "8fe2d55a",
   "metadata": {},
   "outputs": [],
   "source": [
    "distance=[]"
   ]
  },
  {
   "cell_type": "code",
   "execution_count": 81,
   "id": "7625d8fd",
   "metadata": {},
   "outputs": [],
   "source": [
    "dist=driver.find_elements(By.XPATH,'//span[@class=\"description\"]')\n",
    "for i in dist:\n",
    "    distance.append(i.text.split()[2])"
   ]
  },
  {
   "cell_type": "code",
   "execution_count": 82,
   "id": "3d3fcec5",
   "metadata": {},
   "outputs": [
    {
     "data": {
      "text/plain": [
       "['1.8km',\n",
       " '5.5km',\n",
       " '3km',\n",
       " '1.7km',\n",
       " '5.4km',\n",
       " '5.8km',\n",
       " '9km',\n",
       " '7.5km',\n",
       " '1.8km',\n",
       " '3.2km',\n",
       " '4.8km',\n",
       " '0.5km',\n",
       " '7.6km',\n",
       " '6.3km',\n",
       " '8.2km',\n",
       " '5.5km',\n",
       " '4.7km',\n",
       " '2.4km',\n",
       " '4.2km',\n",
       " '5.5km',\n",
       " '3.2km',\n",
       " '1.6km',\n",
       " '4.3km',\n",
       " '0.7km',\n",
       " '3.4km',\n",
       " '5.1km',\n",
       " '5.3km',\n",
       " '19.9km',\n",
       " '6.8km',\n",
       " '8.6km']"
      ]
     },
     "execution_count": 82,
     "metadata": {},
     "output_type": "execute_result"
    }
   ],
   "source": [
    "distance"
   ]
  },
  {
   "cell_type": "code",
   "execution_count": 95,
   "id": "c161cda4",
   "metadata": {},
   "outputs": [],
   "source": [
    "rating=[]"
   ]
  },
  {
   "cell_type": "code",
   "execution_count": 96,
   "id": "5a595215",
   "metadata": {},
   "outputs": [],
   "source": [
    "rate=driver.find_elements(By.XPATH,'//div[@class=\"rating rating-summary-container big\"]')\n",
    "for i in rate:\n",
    "    rating.append(i.text.split(\"\\n\")[0])"
   ]
  },
  {
   "cell_type": "code",
   "execution_count": 97,
   "id": "aaf45750",
   "metadata": {},
   "outputs": [
    {
     "data": {
      "text/plain": [
       "['7.8',\n",
       " '9.4',\n",
       " '7.4',\n",
       " '7.3',\n",
       " '9.1',\n",
       " '7.2',\n",
       " '5.6',\n",
       " '7.6',\n",
       " '7.4',\n",
       " '7.9',\n",
       " '8.0',\n",
       " '8.0',\n",
       " '7.0',\n",
       " '9.0',\n",
       " '5.1',\n",
       " '7.6',\n",
       " '7.3',\n",
       " '7.7',\n",
       " '6.8',\n",
       " '8.8',\n",
       " '7.7',\n",
       " '7.3',\n",
       " '6.8',\n",
       " '4.5',\n",
       " '6.3',\n",
       " '8.9',\n",
       " '10',\n",
       " 'No Rating',\n",
       " '7.7',\n",
       " '8.6']"
      ]
     },
     "execution_count": 97,
     "metadata": {},
     "output_type": "execute_result"
    }
   ],
   "source": [
    "rating"
   ]
  },
  {
   "cell_type": "code",
   "execution_count": 104,
   "id": "d4405863",
   "metadata": {},
   "outputs": [],
   "source": [
    "review=[]"
   ]
  },
  {
   "cell_type": "code",
   "execution_count": 106,
   "id": "403718b5",
   "metadata": {},
   "outputs": [],
   "source": [
    "re=driver.find_elements(By.XPATH,'//div[@class=\"rating rating-summary-container big\"]')\n",
    "for i in re:\n",
    "    review.append(i.text.split(\"\\n\")[-1])"
   ]
  },
  {
   "cell_type": "code",
   "execution_count": 107,
   "id": "478c40b6",
   "metadata": {},
   "outputs": [
    {
     "data": {
      "text/plain": [
       "['11982 Total Reviews',\n",
       " '1817 Total Reviews',\n",
       " '7387 Total Reviews',\n",
       " '4861 Total Reviews',\n",
       " '687 Total Reviews',\n",
       " '1452 Total Reviews',\n",
       " '3971 Total Reviews',\n",
       " '4207 Total Reviews',\n",
       " '3463 Total Reviews',\n",
       " '482 Total Reviews',\n",
       " '4678 Total Reviews',\n",
       " '376 Total Reviews',\n",
       " '3318 Total Reviews',\n",
       " '886 Total Reviews',\n",
       " '3702 Total Reviews',\n",
       " '1869 Total Reviews',\n",
       " '294 Total Reviews',\n",
       " '321 Total Reviews',\n",
       " '41 Total Reviews',\n",
       " '46 Total Reviews',\n",
       " '126 Total Reviews',\n",
       " '174 Total Reviews',\n",
       " '442 Total Reviews',\n",
       " '2527 Total Reviews',\n",
       " '1071 Total Reviews',\n",
       " '4 Total Reviews',\n",
       " '1383 Total Reviews',\n",
       " '11982 Total Reviews',\n",
       " '1817 Total Reviews',\n",
       " '7387 Total Reviews',\n",
       " '4861 Total Reviews',\n",
       " '687 Total Reviews',\n",
       " '1452 Total Reviews',\n",
       " '3971 Total Reviews',\n",
       " '4207 Total Reviews',\n",
       " '3463 Total Reviews',\n",
       " '482 Total Reviews',\n",
       " '4678 Total Reviews',\n",
       " '376 Total Reviews',\n",
       " '3318 Total Reviews',\n",
       " '886 Total Reviews',\n",
       " '3702 Total Reviews',\n",
       " '1869 Total Reviews',\n",
       " '294 Total Reviews',\n",
       " '321 Total Reviews',\n",
       " '41 Total Reviews',\n",
       " '46 Total Reviews',\n",
       " '126 Total Reviews',\n",
       " '174 Total Reviews',\n",
       " '442 Total Reviews',\n",
       " '2527 Total Reviews',\n",
       " '1071 Total Reviews',\n",
       " '4 Total Reviews',\n",
       " '1383 Total Reviews',\n",
       " '0 Total Reviews',\n",
       " '55 Total Reviews',\n",
       " '29 Total Reviews']"
      ]
     },
     "execution_count": 107,
     "metadata": {},
     "output_type": "execute_result"
    }
   ],
   "source": [
    "review"
   ]
  },
  {
   "cell_type": "code",
   "execution_count": 108,
   "id": "15e8d216",
   "metadata": {},
   "outputs": [],
   "source": [
    "price=[]"
   ]
  },
  {
   "cell_type": "code",
   "execution_count": 109,
   "id": "99632af1",
   "metadata": {},
   "outputs": [],
   "source": [
    "pr=driver.find_elements(By.XPATH,'//div[@class=\"price-col\"][1]')\n",
    "for i in pr:\n",
    "    price.append(i.text)"
   ]
  },
  {
   "cell_type": "code",
   "execution_count": 110,
   "id": "7f241c14",
   "metadata": {},
   "outputs": [
    {
     "data": {
      "text/plain": [
       "['No Privates Available',\n",
       " 'Privates From\\nRs19597',\n",
       " 'Privates From\\nRs12692',\n",
       " 'No Privates Available',\n",
       " 'Privates From\\nRs17968',\n",
       " 'No Privates Available',\n",
       " 'No Privates Available',\n",
       " 'No Privates Available',\n",
       " 'No Privates Available',\n",
       " 'No Privates Available',\n",
       " 'Privates From\\nRs25851',\n",
       " 'No Privates Available',\n",
       " 'No Privates Available',\n",
       " 'No Privates Available',\n",
       " 'No Privates Available',\n",
       " 'Privates From\\nRs20603',\n",
       " 'Privates From\\nRs45244',\n",
       " 'No Privates Available',\n",
       " 'No Privates Available',\n",
       " 'Privates From\\nRs26912',\n",
       " 'Privates From\\nRs16975',\n",
       " 'No Privates Available',\n",
       " 'Privates From\\nRs29379',\n",
       " 'No Privates Available',\n",
       " 'No Privates Available',\n",
       " 'No Privates Available',\n",
       " 'Privates From\\nRs9794',\n",
       " 'Privates From\\nRs10838',\n",
       " 'Privates From\\nRs12307',\n",
       " 'Privates From\\nRs15832']"
      ]
     },
     "execution_count": 110,
     "metadata": {},
     "output_type": "execute_result"
    }
   ],
   "source": [
    "price"
   ]
  },
  {
   "cell_type": "code",
   "execution_count": 11,
   "id": "17c1e467",
   "metadata": {},
   "outputs": [],
   "source": [
    "pricedorm=[]"
   ]
  },
  {
   "cell_type": "code",
   "execution_count": 12,
   "id": "af5a9030",
   "metadata": {},
   "outputs": [],
   "source": [
    "prd=driver.find_elements(By.XPATH,'//div[@class=\"price-col\"][2]')\n",
    "for i in prd:\n",
    "    pricedorm.append(i.text)"
   ]
  },
  {
   "cell_type": "code",
   "execution_count": 14,
   "id": "a0903156",
   "metadata": {},
   "outputs": [
    {
     "data": {
      "text/plain": [
       "['Dorms From\\nRs3250.6 Rs2926',\n",
       " 'Dorms From\\nRs6556',\n",
       " 'Dorms From\\nRs3702',\n",
       " 'Dorms From\\nRs3555',\n",
       " 'Dorms From\\nRs3943',\n",
       " 'Dorms From\\nRs5973',\n",
       " 'Dorms From\\nRs3878',\n",
       " 'Dorms From\\nRs2166',\n",
       " 'Dorms From\\nRs3322.78 Rs2991',\n",
       " 'Dorms From\\nRs4301.37 Rs3871',\n",
       " 'Dorms From\\nRs4228.46 Rs3806',\n",
       " 'No Dorms Available',\n",
       " 'Dorms From\\nRs4733',\n",
       " 'Dorms From\\nRs2942.29 Rs2648',\n",
       " 'Dorms From\\nRs5063',\n",
       " 'Dorms From\\nRs2840',\n",
       " 'Dorms From\\nRs6006',\n",
       " 'Dorms From\\nRs4929',\n",
       " 'Dorms From\\nRs6333',\n",
       " 'Dorms From\\nRs2938',\n",
       " 'No Dorms Available',\n",
       " 'No Dorms Available',\n",
       " 'Dorms From\\nRs5713',\n",
       " 'Dorms From\\nRs4799',\n",
       " 'Dorms From\\nRs5304',\n",
       " 'Dorms From\\nRs6920',\n",
       " 'Dorms From\\nRs4048',\n",
       " 'No Dorms Available',\n",
       " 'No Dorms Available',\n",
       " 'No Dorms Available']"
      ]
     },
     "execution_count": 14,
     "metadata": {},
     "output_type": "execute_result"
    }
   ],
   "source": [
    "pricedorm"
   ]
  },
  {
   "cell_type": "code",
   "execution_count": null,
   "id": "f6f2f52b",
   "metadata": {},
   "outputs": [],
   "source": []
  }
 ],
 "metadata": {
  "kernelspec": {
   "display_name": "Python 3 (ipykernel)",
   "language": "python",
   "name": "python3"
  },
  "language_info": {
   "codemirror_mode": {
    "name": "ipython",
    "version": 3
   },
   "file_extension": ".py",
   "mimetype": "text/x-python",
   "name": "python",
   "nbconvert_exporter": "python",
   "pygments_lexer": "ipython3",
   "version": "3.9.12"
  }
 },
 "nbformat": 4,
 "nbformat_minor": 5
}
